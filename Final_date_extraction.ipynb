{
  "nbformat": 4,
  "nbformat_minor": 0,
  "metadata": {
    "colab": {
      "name": "Final_date_extraction.ipynb",
      "provenance": [],
      "include_colab_link": true
    },
    "kernelspec": {
      "name": "python3",
      "display_name": "Python 3"
    }
  },
  "cells": [
    {
      "cell_type": "markdown",
      "metadata": {
        "id": "view-in-github",
        "colab_type": "text"
      },
      "source": [
        "<a href=\"https://colab.research.google.com/github/ya-stack/PDF_to_text/blob/main/Final_date_extraction.ipynb\" target=\"_parent\"><img src=\"https://colab.research.google.com/assets/colab-badge.svg\" alt=\"Open In Colab\"/></a>"
      ]
    },
    {
      "cell_type": "code",
      "metadata": {
        "id": "GNW8UrHGOI2d",
        "colab": {
          "base_uri": "https://localhost:8080/"
        },
        "outputId": "8a7234ce-e5e9-422c-d09b-054cde423e9b"
      },
      "source": [
        "from google.colab import drive\n",
        "drive.mount('/content/gdrive')"
      ],
      "execution_count": null,
      "outputs": [
        {
          "output_type": "stream",
          "name": "stdout",
          "text": [
            "Mounted at /content/gdrive\n"
          ]
        }
      ]
    },
    {
      "cell_type": "code",
      "metadata": {
        "id": "mqG1n7I1OzpU",
        "colab": {
          "base_uri": "https://localhost:8080/"
        },
        "outputId": "c40a1f84-4417-49dc-ab6a-adb85ae6bf96"
      },
      "source": [
        "%cd 'gdrive/My Drive/Colab Notebooks/pdf2text'"
      ],
      "execution_count": null,
      "outputs": [
        {
          "output_type": "stream",
          "name": "stdout",
          "text": [
            "[Errno 2] No such file or directory: 'gdrive/My Drive/Colab Notebooks/pdf2text'\n",
            "/content/gdrive/My Drive/Colab Notebooks/pdf2text\n"
          ]
        }
      ]
    },
    {
      "cell_type": "code",
      "metadata": {
        "id": "1uTynbimPcvI",
        "colab": {
          "base_uri": "https://localhost:8080/"
        },
        "outputId": "6da22255-aef3-4bfd-a4b8-caf455ddd209"
      },
      "source": [
        "!sudo apt install tesseract-ocr"
      ],
      "execution_count": null,
      "outputs": [
        {
          "output_type": "stream",
          "name": "stdout",
          "text": [
            "Reading package lists... Done\n",
            "Building dependency tree       \n",
            "Reading state information... Done\n",
            "The following package was automatically installed and is no longer required:\n",
            "  libnvidia-common-460\n",
            "Use 'sudo apt autoremove' to remove it.\n",
            "The following additional packages will be installed:\n",
            "  tesseract-ocr-eng tesseract-ocr-osd\n",
            "The following NEW packages will be installed:\n",
            "  tesseract-ocr tesseract-ocr-eng tesseract-ocr-osd\n",
            "0 upgraded, 3 newly installed, 0 to remove and 40 not upgraded.\n",
            "Need to get 4,795 kB of archives.\n",
            "After this operation, 15.8 MB of additional disk space will be used.\n",
            "Get:1 http://archive.ubuntu.com/ubuntu bionic/universe amd64 tesseract-ocr-eng all 4.00~git24-0e00fe6-1.2 [1,588 kB]\n",
            "Get:2 http://archive.ubuntu.com/ubuntu bionic/universe amd64 tesseract-ocr-osd all 4.00~git24-0e00fe6-1.2 [2,989 kB]\n",
            "Get:3 http://archive.ubuntu.com/ubuntu bionic/universe amd64 tesseract-ocr amd64 4.00~git2288-10f4998a-2 [218 kB]\n",
            "Fetched 4,795 kB in 1s (5,366 kB/s)\n",
            "debconf: unable to initialize frontend: Dialog\n",
            "debconf: (No usable dialog-like program is installed, so the dialog based frontend cannot be used. at /usr/share/perl5/Debconf/FrontEnd/Dialog.pm line 76, <> line 3.)\n",
            "debconf: falling back to frontend: Readline\n",
            "debconf: unable to initialize frontend: Readline\n",
            "debconf: (This frontend requires a controlling tty.)\n",
            "debconf: falling back to frontend: Teletype\n",
            "dpkg-preconfigure: unable to re-open stdin: \n",
            "Selecting previously unselected package tesseract-ocr-eng.\n",
            "(Reading database ... 148489 files and directories currently installed.)\n",
            "Preparing to unpack .../tesseract-ocr-eng_4.00~git24-0e00fe6-1.2_all.deb ...\n",
            "Unpacking tesseract-ocr-eng (4.00~git24-0e00fe6-1.2) ...\n",
            "Selecting previously unselected package tesseract-ocr-osd.\n",
            "Preparing to unpack .../tesseract-ocr-osd_4.00~git24-0e00fe6-1.2_all.deb ...\n",
            "Unpacking tesseract-ocr-osd (4.00~git24-0e00fe6-1.2) ...\n",
            "Selecting previously unselected package tesseract-ocr.\n",
            "Preparing to unpack .../tesseract-ocr_4.00~git2288-10f4998a-2_amd64.deb ...\n",
            "Unpacking tesseract-ocr (4.00~git2288-10f4998a-2) ...\n",
            "Setting up tesseract-ocr-osd (4.00~git24-0e00fe6-1.2) ...\n",
            "Setting up tesseract-ocr-eng (4.00~git24-0e00fe6-1.2) ...\n",
            "Setting up tesseract-ocr (4.00~git2288-10f4998a-2) ...\n",
            "Processing triggers for man-db (2.8.3-2ubuntu0.1) ...\n"
          ]
        }
      ]
    },
    {
      "cell_type": "code",
      "metadata": {
        "id": "gsdrdIpFPfFa",
        "colab": {
          "base_uri": "https://localhost:8080/"
        },
        "outputId": "62b20723-27ed-4cda-998a-fb6731c98381"
      },
      "source": [
        "pip install pyocr"
      ],
      "execution_count": null,
      "outputs": [
        {
          "output_type": "stream",
          "name": "stdout",
          "text": [
            "Collecting pyocr\n",
            "  Downloading pyocr-0.8.tar.gz (65 kB)\n",
            "\u001b[?25l\r\u001b[K     |█████                           | 10 kB 16.7 MB/s eta 0:00:01\r\u001b[K     |██████████                      | 20 kB 18.0 MB/s eta 0:00:01\r\u001b[K     |███████████████                 | 30 kB 21.7 MB/s eta 0:00:01\r\u001b[K     |████████████████████            | 40 kB 24.5 MB/s eta 0:00:01\r\u001b[K     |█████████████████████████       | 51 kB 27.3 MB/s eta 0:00:01\r\u001b[K     |██████████████████████████████  | 61 kB 29.9 MB/s eta 0:00:01\r\u001b[K     |████████████████████████████████| 65 kB 3.0 MB/s \n",
            "\u001b[?25hRequirement already satisfied: Pillow in /usr/local/lib/python3.7/dist-packages (from pyocr) (7.1.2)\n",
            "Building wheels for collected packages: pyocr\n",
            "  Building wheel for pyocr (setup.py) ... \u001b[?25l\u001b[?25hdone\n",
            "  Created wheel for pyocr: filename=pyocr-0.8-py3-none-any.whl size=36951 sha256=71dcb72c459bf356b6c3be8a351c5662b3a98412a5b3feee3d73bb6e7f0444f1\n",
            "  Stored in directory: /root/.cache/pip/wheels/ad/ca/be/7bf9a562ca9fd00f1097ad0a952c4f0b2584f1e046588ff192\n",
            "Successfully built pyocr\n",
            "Installing collected packages: pyocr\n",
            "Successfully installed pyocr-0.8\n"
          ]
        }
      ]
    },
    {
      "cell_type": "code",
      "metadata": {
        "id": "1oaJpyPBPh6a",
        "colab": {
          "base_uri": "https://localhost:8080/"
        },
        "outputId": "e2564f0a-6b33-4e75-da3f-622733a7c3e4"
      },
      "source": [
        "pip install pdf2image"
      ],
      "execution_count": null,
      "outputs": [
        {
          "output_type": "stream",
          "name": "stdout",
          "text": [
            "Collecting pdf2image\n",
            "  Downloading pdf2image-1.16.0-py3-none-any.whl (10 kB)\n",
            "Requirement already satisfied: pillow in /usr/local/lib/python3.7/dist-packages (from pdf2image) (7.1.2)\n",
            "Installing collected packages: pdf2image\n",
            "Successfully installed pdf2image-1.16.0\n"
          ]
        }
      ]
    },
    {
      "cell_type": "code",
      "metadata": {
        "id": "O-h27fTiPks4",
        "colab": {
          "base_uri": "https://localhost:8080/"
        },
        "outputId": "95aac57f-32aa-409b-98dc-d9813d6f42c0"
      },
      "source": [
        "!apt-get install poppler-utils"
      ],
      "execution_count": null,
      "outputs": [
        {
          "output_type": "stream",
          "name": "stdout",
          "text": [
            "Reading package lists... Done\n",
            "Building dependency tree       \n",
            "Reading state information... Done\n",
            "The following package was automatically installed and is no longer required:\n",
            "  libnvidia-common-460\n",
            "Use 'apt autoremove' to remove it.\n",
            "The following NEW packages will be installed:\n",
            "  poppler-utils\n",
            "0 upgraded, 1 newly installed, 0 to remove and 40 not upgraded.\n",
            "Need to get 154 kB of archives.\n",
            "After this operation, 613 kB of additional disk space will be used.\n",
            "Get:1 http://archive.ubuntu.com/ubuntu bionic-updates/main amd64 poppler-utils amd64 0.62.0-2ubuntu2.12 [154 kB]\n",
            "Fetched 154 kB in 0s (351 kB/s)\n",
            "Selecting previously unselected package poppler-utils.\n",
            "(Reading database ... 148536 files and directories currently installed.)\n",
            "Preparing to unpack .../poppler-utils_0.62.0-2ubuntu2.12_amd64.deb ...\n",
            "Unpacking poppler-utils (0.62.0-2ubuntu2.12) ...\n",
            "Setting up poppler-utils (0.62.0-2ubuntu2.12) ...\n",
            "Processing triggers for man-db (2.8.3-2ubuntu0.1) ...\n"
          ]
        }
      ]
    },
    {
      "cell_type": "code",
      "metadata": {
        "id": "CnVUBZlQPncd"
      },
      "source": [
        "import os.path\n",
        "from PIL import Image as PI\n",
        "import pyocr\n",
        "import pyocr.builders\n",
        "import io\n",
        "import datetime\n",
        "\n",
        "from dateutil.relativedelta import relativedelta\n",
        "from pdf2image import convert_from_path, convert_from_bytes\n",
        "from pdf2image.exceptions import (\n",
        "    PDFInfoNotInstalledError,\n",
        "    PDFPageCountError,\n",
        "    PDFSyntaxError\n",
        ")\n",
        "\n",
        "tool = pyocr.get_available_tools()[0]\n",
        "lang = tool.get_available_languages()[0]"
      ],
      "execution_count": null,
      "outputs": []
    },
    {
      "cell_type": "code",
      "metadata": {
        "id": "zoLMcDsUQCpG"
      },
      "source": [
        "def extract_date(filename):\n",
        "    extension = os.path.splitext(filename)[1]\n",
        "    if extension == '.pdf':\n",
        "        images = convert_from_path(filename)\n",
        "        final_text = []\n",
        "        for img in images: \n",
        "            txt = tool.image_to_string(\n",
        "                img,\n",
        "                lang='eng',\n",
        "                builder=pyocr.builders.TextBuilder()\n",
        "            )\n",
        "            final_text.append(txt)\n",
        "        text = \" \".join(final_text)\n",
        "    elif extension == '.jpg':\n",
        "        text = tool.image_to_string(\n",
        "            PI.open(filename),\n",
        "            lang = 'eng',\n",
        "            builder = pyocr.builders.TextBuilder()\n",
        "        )\n",
        "    elif extension == '.jpeg':\n",
        "        text = tool.image_to_string(\n",
        "            PI.open(filename),\n",
        "            lang = 'eng',\n",
        "            builder = pyocr.builders.TextBuilder()\n",
        "        )\n",
        "    else:\n",
        "        text = ''\n",
        "    \n",
        "\n",
        "    sub1 = 'Acko General Insurance Ltd'\n",
        "    sub2 = 'Bajaj Allianz General Insurance Company Ltd'\n",
        "    sub3 = 'BHARTI AXA GENERAL INSURANCE COMPANY LTD'\n",
        "    sub4 = 'Edelweiss General Insurance Company Limited'\n",
        "    sub5 = 'Future Generali India Insurance Company Limited'\n",
        "    sub6 = 'Go Digit General Insurance Limited'\n",
        "    sub7 = 'ICICI Lombard General Insurance Co. Ltd'\n",
        "    sub8 = 'IFFCO-TOKIO GENERAL INSURANCE CO.LTD'\n",
        "    sub9 = 'National Insurance Company Limited'\n",
        "    sub10 = 'The Oriental Insurance Company Limited'\n",
        "    sub11 = 'Royal Sundaram General Insurance Co. Limited'\n",
        "    sub12 = 'SBI General Insurance Company Limited'\n",
        "    sub13 = 'SHRIRAM GENERAL INSURANCE COMPANY LTD'\n",
        "    sub14 = 'TATA AIG General Insurance Company Ltd'\n",
        "    sub15 = 'THE NEW INDIA ASSURANCE CO. LTD'\n",
        "    sub16 = 'UNITED INDIA INSURANCE COMPANY LIMITED'\n",
        "    sub17 = 'Reliance General Insurance Company Limited'\n",
        "    sub18 = 'Kotak Mahindra General Insurance Company Limited'\n",
        "    sub19 = 'HDFC ERGO General Insurance Company Limited'\n",
        "\n",
        "    if sub1.lower() in text.lower():\n",
        "        text1 = text.replace('\\n', '  ')\n",
        "        text2 = text1.split('  ')\n",
        "        subst = 'Period of Insurance'\n",
        "        res = [i for i in text2 if subst in i]\n",
        "        date = res[0].split(' ')\n",
        "        policy_detail = {'extraction': 'success',\n",
        "                         'insurance_company': 'Acko General Insurance Ltd',\n",
        "                         'policy_inception_date': datetime.datetime.strptime(date[3]+'-'+date[4]+'-'+'20'+date[5]+' '+date[6], '%d-%b-%Y (%H:%M'),\n",
        "                         'policy_expiry_date': datetime.datetime.strptime(date[9]+'-'+date[10]+'-'+'20'+date[11]+' '+'23:59:59', '%d-%b-%Y %H:%M:%S')\n",
        "                         }\n",
        "    elif sub2.lower() in text.lower():\n",
        "        text1 = text.replace('\\n', '  ')\n",
        "        text2 = text1.split('  ')\n",
        "        subs = 'Period of Insurance'\n",
        "        res = [i for i in text2 if subs in i]\n",
        "        subtr = 'Policy Period To'\n",
        "        restr = [i for i in text2 if subtr in i]\n",
        "        from_date = res[0].split(' ')\n",
        "        time = from_date[7].split('(')\n",
        "        to_date = restr[0].split(' ')\n",
        "        policy_detail = {'extraction': 'success',\n",
        "                         'insurance_company': 'Bajaj Allianz General Insurance Company Ltd',\n",
        "                         'policy_inception_date': datetime.datetime.strptime(from_date[6] + ' ' + time[0], '%d-%b-%Y %H:%M'),\n",
        "                         'policy_expiry_date': datetime.datetime.strptime(to_date[5] + ' ' + '23:59:59', '%d-%b-%Y %H:%M:%S')\n",
        "                         }\n",
        "    elif sub3.lower() in text.lower():\n",
        "        text1 = text.replace('\\n', '  ')\n",
        "        text2 = text1.split('  ')\n",
        "        subs = 'Period of Insurance'\n",
        "        res = [i for i in text2 if subs in i]\n",
        "        res1 = res[0].split(' ')\n",
        "        date1 = res1[4].split(',')\n",
        "        date2 = res1[11].split(',')\n",
        "        policy_detail = {'extraction': 'success',\n",
        "                         'insurance_company': 'BHARTI AXA GENERAL INSURANCE COMPANY LTD',\n",
        "                         'policy_inception_date':datetime.datetime.strptime(date1[0] + '-' + res1[3]+'-'+res1[5]+ ' '+'00:00', '%d-%B-%Y %H:%M'),\n",
        "                         'policy_expiry_date':datetime.datetime.strptime(date2[0] + '-' + res1[10]+'-'+res1[12]+ ' '+'23:59:59', '%d-%B-%Y %H:%M:%S')\n",
        "                         }\n",
        "    \n",
        "    elif sub4.lower() in text.lower():\n",
        "        text1 = text.replace('\\n', '  ')\n",
        "        text2 = text1.split('  ')\n",
        "        subst = 'Period of Insurance'\n",
        "        res = [i for i in text2 if subst in i]\n",
        "        date = res[0].split(' ')\n",
        "        policy_detail = {'extraction': 'success',\n",
        "                         'insurance_company': 'Edelweiss General Insurance Company Limited',\n",
        "                         'policy_inception_date': datetime.datetime.strptime(date[4] + ' ' + date[5] + date[6], '%d-%b-%Y %I:%M%p'),\n",
        "                         'policy_expiry_date': datetime.datetime.strptime(date[8] + ' ' + date[9]  + date[10], '%d-%b-%Y %I:%M%p'),\n",
        "                         }\n",
        "    elif sub5.lower() in text.lower():\n",
        "        text1 = text.replace('\\n', '  ')\n",
        "        text2 = text1.split('  ')\n",
        "        subs = 'Period of Insurance'\n",
        "        res = [i for i in text2 if subs in i]\n",
        "        subtr = 'General Insurance Service'\n",
        "        restr = [i for i in text2 if subtr in i]\n",
        "        from_date = res[0].split(' ')\n",
        "        to_date = restr[0].split(' ')\n",
        "        policy_detail = {'extraction': 'success',\n",
        "                         'insurance_company': 'Future Generali India Insurance Company Limited',\n",
        "                         'policy_inception_date': datetime.datetime.strptime(from_date[8] + ' ' + from_date[5], '%d/%m/%Y %H:%M'),\n",
        "                         'policy_expiry_date': datetime.datetime.strptime(to_date[3]+ ' ' + '23:59:59', '%d/%m/%Y %H:%M:%S')\n",
        "                         }\n",
        "    elif sub6.lower() in text.lower():\n",
        "        text1 = text.replace('\\n', '  ')\n",
        "        text2 = text1.split('  ')\n",
        "        subs = 'Period of Policy'\n",
        "        res = [i for i in text2 if subs in i]\n",
        "        subtr = 'To'\n",
        "        restr = [i for i in text2 if subtr in i]\n",
        "        from_date = res[0].split(' ')\n",
        "        to_date = restr[0].split(' ')\n",
        "        policy_detail = {'extraction': 'success',\n",
        "                         'insurance_company': 'Go Digit General Insurance Limited',\n",
        "                         'policy_inception_date': datetime.datetime.strptime(from_date[4] + ' ' + from_date[5], '%d-%b-%Y %H:%M:%S'),\n",
        "                         'policy_expiry_date': datetime.datetime.strptime(to_date[1]+ ' ' + to_date[2], '%d-%b-%Y %H:%M:%S')\n",
        "                         }\n",
        "    elif sub7.lower() in text.lower():\n",
        "        text1 = text.replace('\\n', '  ')\n",
        "        text2 = text1.split('  ')\n",
        "        subst = 'Period of insurance'\n",
        "        res = [i for i in text2 if subst in i]\n",
        "        date = res[0].split(' ')\n",
        "        policy_detail = {'extraction': 'success',\n",
        "                         'insurance_company': 'ICICI LOMBARD GENERAL INSURANCE CO LTD',\n",
        "                         'policy_inception_date':datetime.datetime.strptime(date[8] + ' ' + '00:01:00', '%d-%b-%Y %H:%M:%S'),\n",
        "                         'policy_expiry_date':datetime.datetime.strptime(date[10]+ ' ' + '23:59:59', '%d-%b-%Y %H:%M:%S')\n",
        "                         }\n",
        "    elif sub8.lower() in text.lower():\n",
        "        text1 = text.replace('\\n', '  ')\n",
        "        text2 = text1.split('  ')\n",
        "        subs = 'Period of insurance'\n",
        "        res = [i for i in text2 if subs in i]\n",
        "        subtr = 'Midnight'\n",
        "        restr = [i for i in text2 if subtr in i]\n",
        "        from_date = res[0].split(' ')\n",
        "        to_date = restr[0].split(' ')\n",
        "        policy_detail = {'extraction': 'success',\n",
        "                         'insurance_company': 'IFFCO-TOKIO GENERAL INSURANCE CO.LTD',\n",
        "                         'policy_inception_date': datetime.datetime.strptime(from_date[9] + ' ' + from_date[10], '%d/%m/%Y %H:%M:%S'),\n",
        "                         'policy_expiry_date': datetime.datetime.strptime(to_date[4]+ ' ' + to_date[5], '%d/%m/%Y %H:%M:%S')\n",
        "                         }\n",
        "    elif sub9.lower() in text.lower():\n",
        "        text1 = text.replace('\\n', '  ')\n",
        "        text2 = text1.split('  ')\n",
        "        subst = 'Policy Effective'\n",
        "        res = [i for i in text2 if subst in i]\n",
        "        date = res[0].split(' ')\n",
        "        policy_detail = {'extraction': 'success',\n",
        "                         'insurance_company': 'National Insurance Company Limited',\n",
        "                         'policy_inception_date':datetime.datetime.strptime(date[11] + ' ' + date[8], '%d/%m/%Y %H:%M'),\n",
        "                         'policy_expiry_date':datetime.datetime.strptime(date[18]+ ' ' + '23:59:59', '%d/%m/%Y %H:%M:%S')\n",
        "                         }\n",
        "    elif sub10.lower() in text.lower():\n",
        "        text1 = text.replace('\\n', '  ')\n",
        "        text2 = text1.split('  ')\n",
        "        subst = 'Period of Insurance'\n",
        "        res = [i for i in text2 if subst in i]\n",
        "        date = res[0].split(' ')\n",
        "        policy_detail = {'extraction': 'success',\n",
        "                         'insurance_company': 'The Oriental Insurance Company Limited',\n",
        "                         'policy_inception_date': datetime.datetime.strptime(date[8]+' '+date[6], '%d/%m/%Y %H:%M'),\n",
        "                         'policy_expiry_date': datetime.datetime.strptime(date[12]+' '+'23:59:59', '%d/%m/%Y %H:%M:%S')\n",
        "                         }\n",
        "    elif sub11.lower() in text.lower():\n",
        "        text1 = text.replace('\\n', '  ')\n",
        "        text2 = text1.split('   ')\n",
        "        subst = 'Policy Period'\n",
        "        res = [i for i in text2 if subst in i]\n",
        "        date = res[0].split(' ')\n",
        "        policy_detail = {'extraction': 'success',\n",
        "                         'insurance_company': 'Royal Sundaram General Insurance Co. Limited',\n",
        "                         'policy_inception_date': datetime.datetime.strptime(date[14]+' '+date[11], '%d/%m/%Y %H:%M:%S'),\n",
        "                         'policy_expiry_date': datetime.datetime.strptime(date[19]+' '+date[16], '%d/%m/%Y %H:%M:%S')\n",
        "                         }\n",
        "    elif sub12.lower() in text.lower():\n",
        "        text1 = text.replace('\\n', '  ')\n",
        "        text2 = text1.split('  ')\n",
        "        subs = 'Period of Insurance'\n",
        "        res = [i for i in text2 if subs in i]\n",
        "        date = res[0].split(' ')\n",
        "        policy_detail = {'extraction': 'success',\n",
        "                         'insurance_company': 'SBI General Insurance Company Limited',\n",
        "                         'policy_inception_date':datetime.datetime.strptime(date[4]+' '+date[5], '%d/%m/%Y %H:%M'),\n",
        "                         'policy_expiry_date':datetime.datetime.strptime(date[8]+' '+'23:59:59', '%d/%m/%Y %H:%M:%S')\n",
        "                         }\n",
        "    elif sub13.lower() in text.lower():\n",
        "        text1 = text.replace('\\n', '  ')\n",
        "        text2 = text1.split('  ')\n",
        "        subs = 'Period of Insurance'\n",
        "        res = [i for i in text2 if subs in i]\n",
        "        date = res[0].split(' ')\n",
        "        policy_detail = {'extraction': 'success',\n",
        "                         'insurance_company': 'SHRIRAM GENERAL INSURANCE COMPANY LTD',\n",
        "                         'policy_inception_date':datetime.datetime.strptime(date[7]+' '+date[5], '%d/%m/%Y %H:%M'),\n",
        "                         'policy_expiry_date':datetime.datetime.strptime(date[11]+' '+'23:59:59', '%d/%m/%Y %H:%M:%S')\n",
        "                         }\n",
        "    elif sub14.lower() in text.lower():\n",
        "        text1 = text.replace('\\n', '  ')\n",
        "        text2 = text1.split('  ')\n",
        "        subst = 'Policy Period'\n",
        "        res = [i for i in text2 if subst in i]\n",
        "        date = res[0].split(' ')\n",
        "        policy_detail = {'extraction': 'success',\n",
        "                         'insurance_company': 'TATA AIG General Insurance Company Ltd',\n",
        "                         'policy_inception_date': datetime.datetime.strptime(date[4]+' '+'00:00:01', '%d/%m/%Y %H:%M:%S'),\n",
        "                         'policy_expiry_date': datetime.datetime.strptime(date[8]+' '+'23:59:59', '%d/%m/%Y %H:%M:%S')\n",
        "                         }\n",
        "    elif sub15.lower() in text.lower():\n",
        "        text1 = text.replace('\\n', '  ')\n",
        "        text2 = text1.split('  ')\n",
        "        subs = 'From:'\n",
        "        res = [i for i in text2 if subs in i]\n",
        "        subtr = 'To:'\n",
        "        restr = [i for i in text2 if subtr in i]\n",
        "        from_date = res[0].split(' ')\n",
        "        to_date = restr[0].split(' ')\n",
        "        policy_detail = {'extraction': 'success',\n",
        "                         'insurance_company': 'THE NEW INDIA ASSURANCE CO. LTD',\n",
        "                         'policy_inception_date': datetime.datetime.strptime(from_date[1] + ' ' + from_date[2]+ ' ' + from_date[3], '%d/%m/%Y %I:%M:%S %p'),\n",
        "                         'policy_expiry_date': datetime.datetime.strptime(to_date[1]+ ' ' + to_date[2]+ ' ' + from_date[3], '%d/%m/%Y %I:%M:%S %p')\n",
        "                         }\n",
        "    elif sub16.lower() in text.lower():\n",
        "        text1 = text.replace('\\n', '  ')\n",
        "        text2 = text1.split('  ')\n",
        "        subst = 'From'\n",
        "        res = [i for i in text2 if subst in i]\n",
        "        date = res[0].split(' ')\n",
        "        policy_detail = {'extraction': 'success',\n",
        "                         'insurance_company': 'TATA AIG General Insurance Company Ltd',\n",
        "                         'policy_inception_date': datetime.datetime.strptime(date[5]+' '+date[2], '%d/%m/%Y %H:%M'),\n",
        "                         'policy_expiry_date': datetime.datetime.strptime(date[10]+' '+'23:59:59', '%d/%m/%Y %H:%M:%S')\n",
        "                         }\n",
        "    elif sub17.lower() in text.lower():\n",
        "        text1 = text.replace('\\n', '  ')\n",
        "        text2 = text1.split('  ')\n",
        "        subst = 'Policy Period'\n",
        "        res = [i for i in text2 if subst in i]\n",
        "        date = res[0].split(' ')\n",
        "        policy_detail = {'extraction': 'success',\n",
        "                         'insurance_company': 'Royal Sundaram General Insurance Co. Limited',\n",
        "                         'policy_inception_date': datetime.datetime.strptime(date[2]+' '+'00:00:01', '%d-%b-%Y %H:%M:%S'),\n",
        "                         'policy_expiry_date': datetime.datetime.strptime(date[4]+' '+'23:59:59', '%d-%b-%Y %H:%M:%S')\n",
        "                         }\n",
        "    elif sub18.lower() in text.lower():\n",
        "        text1 = text.replace('\\n', '  ')\n",
        "        text2 = text1.split('  ')\n",
        "        subst = 'From'\n",
        "        res = [i for i in text2 if subst in i]\n",
        "        date = res[0].split(' ')\n",
        "        policy_detail = {'extraction': 'success',\n",
        "                         'insurance_company': 'Kotak Mahindra General Insurance Company Limited',\n",
        "                         'policy_inception_date': datetime.datetime.strptime(date[1]+' '+date[2], '%d/%m/%Y %H:%M'),\n",
        "                         'policy_expiry_date': datetime.datetime.strptime(date[4]+' '+'23:59:59', '%d/%m/%Y %H:%M:%S')\n",
        "                         }\n",
        "    elif sub19.lower() in text.lower():\n",
        "        text1 = text.replace('\\n', '  ')\n",
        "        text2 = text1.split('  ')\n",
        "        subst = 'From'\n",
        "        res = [i for i in text2 if subst in i]\n",
        "        res1 = res[0].split('-')\n",
        "        date = res1[2].split(' ')\n",
        "        month = date[5].split(',')\n",
        "        from_date = datetime.datetime.strptime(date[4]+'-'+month[0]+'-'+date[6]+' '+date[7], '%d-%b-%Y %H:%M')\n",
        "        date_format = datetime.datetime.strptime(date[4]+'-'+month[0]+'-'+date[6]+' '+'23:59:59', '%d-%b-%Y %H:%M:%S')\n",
        "        newDate = date_format + relativedelta(years=1)\n",
        "        upcomingDate = newDate - datetime.timedelta(days=1)\n",
        "        policy_detail = {'extraction': 'success',\n",
        "                         'insurance_company': 'HDFC ERGO General Insurance Company Limited',\n",
        "                         'policy_inception_date':from_date,\n",
        "                         'policy_expiry_date':upcomingDate\n",
        "                         }\n",
        "    else:\n",
        "        policy_detail = {'extraction': 'Data extraction failed',\n",
        "                         'insurance_company': None,\n",
        "                         'policy_inception_date':None,\n",
        "                         'policy_expiry_date':None\n",
        "                         }\n",
        "    return policy_detail"
      ],
      "execution_count": null,
      "outputs": []
    },
    {
      "cell_type": "code",
      "metadata": {
        "id": "MYoST2fcQdRM"
      },
      "source": [
        "#policy = extract_date('Acko Insurance Policy.pdf')\n",
        "#policy = extract_date('Bajaj INsurance POlicy.pdf')\n",
        "#policy = extract_date('Bharti Axa Insurance Policy.pdf')\n",
        "#policy = extract_date('Edelwise Insurance Policy.pdf')\n",
        "#policy = extract_date('Future Generali Insurance Policy.pdf')\n",
        "policy = extract_date('Go Digit Insurance Policy.pdf')\n",
        "#policy = extract_date('ICICI Insurance Policy.pdf')\n",
        "#policy = extract_date('Iffco Tokio Insurance Policy.pdf')\n",
        "#policy = extract_date('National Insurance Policy.pdf')\n",
        "#policy = extract_date('Oriental Insurance Policy.pdf')\n",
        "#policy = extract_date('Royal Sundaram Insurance Policy.pdf')\n",
        "#policy = extract_date('SBI Insurance Policy.pdf')\n",
        "#policy = extract_date('Shri Ram Insurance Policy.pdf')\n",
        "#policy = extract_date('TATA AIG Insurance Policy.pdf')\n",
        "#policy = extract_date('The New India Insurance Policy.pdf')\n",
        "#policy = extract_date('United Insurance Policy.pdf')\n",
        "#policy = extract_date('Reliance Insurance Policy.pdf')\n",
        "#policy = extract_date('Kotak Insurance Policy.pdf')\n",
        "#policy = extract_date('HDFC Insurance Policy.pdf')\n",
        "# policy = extract_date('hdfr_test.jpg')\n",
        "#policy = extract_date('PC_NIAPOLICYSCHEDULECIRTIFICATEPC_76928599.pdf')"
      ],
      "execution_count": null,
      "outputs": []
    },
    {
      "cell_type": "code",
      "metadata": {
        "id": "h-zb7JIrQhg4",
        "colab": {
          "base_uri": "https://localhost:8080/"
        },
        "outputId": "9edbfd64-a84a-4d5a-ba3b-62ae1ea0d006"
      },
      "source": [
        "policy"
      ],
      "execution_count": null,
      "outputs": [
        {
          "output_type": "execute_result",
          "data": {
            "text/plain": [
              "{'extraction': 'success',\n",
              " 'insurance_company': 'Go Digit General Insurance Limited',\n",
              " 'policy_expiry_date': datetime.datetime(2020, 12, 22, 23, 59, 59),\n",
              " 'policy_inception_date': datetime.datetime(2019, 12, 23, 0, 0, 1)}"
            ]
          },
          "metadata": {},
          "execution_count": 13
        }
      ]
    },
    {
      "cell_type": "code",
      "metadata": {
        "id": "_7sxKxgQQ1fl"
      },
      "source": [
        ""
      ],
      "execution_count": null,
      "outputs": []
    }
  ]
}