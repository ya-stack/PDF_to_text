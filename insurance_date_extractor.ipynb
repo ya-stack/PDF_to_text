{
  "nbformat": 4,
  "nbformat_minor": 0,
  "metadata": {
    "colab": {
      "name": "insurance_date_extractor.ipynb",
      "provenance": [],
      "collapsed_sections": [],
      "include_colab_link": true
    },
    "kernelspec": {
      "name": "python3",
      "display_name": "Python 3"
    }
  },
  "cells": [
    {
      "cell_type": "markdown",
      "metadata": {
        "id": "view-in-github",
        "colab_type": "text"
      },
      "source": [
        "<a href=\"https://colab.research.google.com/github/ya-stack/PDF_to_text/blob/main/insurance_date_extractor.ipynb\" target=\"_parent\"><img src=\"https://colab.research.google.com/assets/colab-badge.svg\" alt=\"Open In Colab\"/></a>"
      ]
    },
    {
      "cell_type": "code",
      "metadata": {
        "id": "06vKMKBNHnSv"
      },
      "source": [
        "from google.colab import drive\n",
        "drive.mount('/content/gdrive')"
      ],
      "execution_count": null,
      "outputs": []
    },
    {
      "cell_type": "code",
      "metadata": {
        "id": "2iyGimZYIdzL",
        "colab": {
          "base_uri": "https://localhost:8080/",
          "height": 34
        },
        "outputId": "6e6d2a2d-2387-4161-cef0-d4191eadaaf7"
      },
      "source": [
        "%cd 'gdrive/My Drive/Colab Notebooks/pdf2text'"
      ],
      "execution_count": null,
      "outputs": [
        {
          "output_type": "stream",
          "text": [
            "/content/gdrive/My Drive/Colab Notebooks/pdf2text\n"
          ],
          "name": "stdout"
        }
      ]
    },
    {
      "cell_type": "code",
      "metadata": {
        "id": "reex5BtyKsIJ",
        "colab": {
          "base_uri": "https://localhost:8080/",
          "height": 258
        },
        "outputId": "968f86a9-ab78-4d8a-df9e-c352809d4b1e"
      },
      "source": [
        "pip install pdfminer"
      ],
      "execution_count": null,
      "outputs": [
        {
          "output_type": "stream",
          "text": [
            "Collecting pdfminer\n",
            "\u001b[?25l  Downloading https://files.pythonhosted.org/packages/71/a3/155c5cde5f9c0b1069043b2946a93f54a41fd72cc19c6c100f6f2f5bdc15/pdfminer-20191125.tar.gz (4.2MB)\n",
            "\u001b[K     |████████████████████████████████| 4.2MB 4.7MB/s \n",
            "\u001b[?25hCollecting pycryptodome\n",
            "\u001b[?25l  Downloading https://files.pythonhosted.org/packages/17/55/17fa0b55849dc135f7bc400993a9206bf06d1b5d9520b0bc8d47c57aaef5/pycryptodome-3.9.8-cp36-cp36m-manylinux1_x86_64.whl (13.7MB)\n",
            "\u001b[K     |████████████████████████████████| 13.7MB 310kB/s \n",
            "\u001b[?25hBuilding wheels for collected packages: pdfminer\n",
            "  Building wheel for pdfminer (setup.py) ... \u001b[?25l\u001b[?25hdone\n",
            "  Created wheel for pdfminer: filename=pdfminer-20191125-cp36-none-any.whl size=6140064 sha256=cc7b63505eb76b3af51c8a93c72d1eeab7e7d4bbdd80980f6676a38e5c622a5f\n",
            "  Stored in directory: /root/.cache/pip/wheels/e1/00/af/720a55d74ba3615bb4709a3ded6dd71dc5370a586a0ff6f326\n",
            "Successfully built pdfminer\n",
            "Installing collected packages: pycryptodome, pdfminer\n",
            "Successfully installed pdfminer-20191125 pycryptodome-3.9.8\n"
          ],
          "name": "stdout"
        }
      ]
    },
    {
      "cell_type": "code",
      "metadata": {
        "id": "Tq6PfzGNk22Y",
        "colab": {
          "base_uri": "https://localhost:8080/",
          "height": 153
        },
        "outputId": "68e7bc06-987c-4c71-98a0-762fc2b5d66c"
      },
      "source": [
        "pip install datefinder"
      ],
      "execution_count": null,
      "outputs": [
        {
          "output_type": "stream",
          "text": [
            "Collecting datefinder\n",
            "  Downloading https://files.pythonhosted.org/packages/0c/4f/29524c9ca35d2ba1a8a3c6c895b90fc92525cf0fe357f747133890953ebe/datefinder-0.7.1-py2.py3-none-any.whl\n",
            "Requirement already satisfied: python-dateutil>=2.4.2 in /usr/local/lib/python3.6/dist-packages (from datefinder) (2.8.1)\n",
            "Requirement already satisfied: pytz in /usr/local/lib/python3.6/dist-packages (from datefinder) (2018.9)\n",
            "Requirement already satisfied: regex>=2017.02.08 in /usr/local/lib/python3.6/dist-packages (from datefinder) (2019.12.20)\n",
            "Requirement already satisfied: six>=1.5 in /usr/local/lib/python3.6/dist-packages (from python-dateutil>=2.4.2->datefinder) (1.12.0)\n",
            "Installing collected packages: datefinder\n",
            "Successfully installed datefinder-0.7.1\n"
          ],
          "name": "stdout"
        }
      ]
    },
    {
      "cell_type": "code",
      "metadata": {
        "id": "VP7iOiZrKd5C"
      },
      "source": [
        "import sys\n",
        "import datetime\n",
        "import datefinder\n",
        "from pdfminer.pdfinterp import PDFResourceManager, PDFPageInterpreter\n",
        "from pdfminer.pdfpage import PDFPage\n",
        "from pdfminer.converter import XMLConverter, HTMLConverter, TextConverter\n",
        "from pdfminer.layout import LAParams\n",
        "from io import StringIO"
      ],
      "execution_count": null,
      "outputs": []
    },
    {
      "cell_type": "code",
      "metadata": {
        "id": "DFITz_XFirU3"
      },
      "source": [
        "def find_between_r( s, first, last ):\n",
        "    try:\n",
        "        start = s.rindex( first ) + len( first )\n",
        "        end = s.rindex( last, start )\n",
        "        return s[start:end]\n",
        "    except ValueError:\n",
        "        return \"\""
      ],
      "execution_count": null,
      "outputs": []
    },
    {
      "cell_type": "code",
      "metadata": {
        "id": "2iUzZt1FHsXw"
      },
      "source": [
        "def pdfparser_new(data):\n",
        "\n",
        "    fp = open(data, 'rb')\n",
        "    rsrcmgr = PDFResourceManager()\n",
        "    retstr = StringIO()\n",
        "    codec = 'utf-8'\n",
        "    laparams = LAParams()\n",
        "    device = TextConverter(rsrcmgr, retstr, laparams=laparams,\n",
        "                           imagewriter = None)\n",
        "    # Create a PDF interpreter object.\n",
        "    interpreter = PDFPageInterpreter(rsrcmgr, device)\n",
        "    # Process each page contained in the document.\n",
        "\n",
        "    for page in PDFPage.get_pages(fp, check_extractable=False):\n",
        "        interpreter.process_page(page)\n",
        "        data =  retstr.getvalue()\n",
        "\n",
        "    #print (data)\n",
        "    sub1 = 'Bajaj Allianz General Insurance Company Ltd'\n",
        "    sub2 = 'Edelweiss\tGeneral\tInsurance\tCompany\tLimited'\n",
        "    sub3 = 'Go Digit General Insurance Limited'\n",
        "    sub4 = 'Acko General Insurance Ltd'\n",
        "    sub5 = 'BHARTI AXA GENERAL INSURANCE COMPANY LTD'\n",
        "    sub6 = 'HDFC ERGO General Insurance Company Limited'\n",
        "    sub7 = 'IFFCO-TOKIO GENERAL INSURANCE CO.LTD'\n",
        "    sub8 = 'Future Generali India Insurance Company Limited'\n",
        "    sub9 = 'National Insurance Company Limited'\n",
        "    sub11 = 'ICICI LOMBARD GENERAL INSURANCE CO LTD.'\n",
        "    sub12 = 'The Oriental Insurance Company Limited'\n",
        "    sub13 = 'Royal Sundaram General Insurance Co. Limited'\n",
        "    sub14 = 'SHRIRAM GENERAL INSURANCE COMPANY LTD'\n",
        "    sub15 = 'THE NEW INDIA ASSURANCE CO. LTD'\n",
        "    sub16 = 'UNITED INDIA INSURANCE COMPANY LIMITED'\n",
        "    sub17 = 'AIG'\n",
        "    if sub1.lower() in data.lower():\n",
        "        split_text = data.split('\\n')\n",
        "        indexes = [i for i,x in enumerate(split_text) if x == 'POLICY DETAILS']\n",
        "        ind_val = indexes[0]\n",
        "        policy_number = split_text[ind_val + 4]\n",
        "        policy_from = split_text[ind_val + 16].split(' ')\n",
        "        policy_upto = split_text[ind_val + 17].split(' ')\n",
        "        #policy_n = split_text[1123].split('\\n')\n",
        "        print(policy_from)\n",
        "        policy_detail = {'insurance_company': 'Bajaj Allianz General Insurance Company Ltd',\n",
        "                         'policy_number': policy_number,\n",
        "                         'policy_inception_date': datetime.datetime.strptime(policy_from[2] + ' ' + policy_from[3] + ':00', '%d-%b-%Y %H:%M:%S'),\n",
        "                         'policy_expiry_date': datetime.datetime.strptime(policy_upto[2] + ' ' + '23:59:59', '%d-%b-%Y %H:%M:%S')}\n",
        "    elif sub2.lower() in data.lower():\n",
        "        split_text = data.split('\\n')\n",
        "        indexes = [i for i,x in enumerate(split_text) if x == 'Policy\\tDetails']\n",
        "        policy_n = split_text[indexes[0] - 2].split('\\t')\n",
        "        time_period = split_text[indexes[0] - 6].split('\\t')\n",
        "        policy_detail = {'insurance_company': 'Edelweiss General Insurance Company Limited',\n",
        "                         'policy_number': policy_n[3],\n",
        "                         'policy_inception_date': datetime.datetime.strptime(time_period[4] + ' ' + time_period[5] + time_period[6], '%d-%b-%Y %I:%M%p'),\n",
        "                         'policy_expiry_date': datetime.datetime.strptime(time_period[8] + ' ' + time_period[9]  + time_period[10], '%d-%b-%Y %I:%M%p')}\n",
        "    elif sub3.lower() in data.lower():\n",
        "        split_text = data.split('\\n')\n",
        "        indexes = [i for i,x in enumerate(split_text) if x == 'Policy Number']\n",
        "        policy_detail = {'insurance_company': 'Go Digit General Insurance Limited',\n",
        "                         'policy_number': split_text[indexes[0] + 8],\n",
        "                         'policy_inception_date': datetime.datetime.strptime(split_text[indexes[0] + 13] + ' ' + split_text[indexes[0] + 16], '%d-%b-%Y %H:%M:%S'),\n",
        "                         'policy_expiry_date': datetime.datetime.strptime(split_text[indexes[0] + 14] + ' ' + split_text[indexes[0] + 17], '%d-%b-%Y %H:%M:%S')}\n",
        "    elif sub4.lower() in data.lower():\n",
        "        split_text = data.split('\\n')\n",
        "        indexes = [i for i,x in enumerate(split_text) if x == 'PREMIUM RECEIPT']\n",
        "        time = split_text[indexes[0] + 13].split(' ')\n",
        "        policy_detail = {'insurance_company': 'Acko General Insurance Ltd',\n",
        "                         'policy_number': split_text[indexes[0] + 15],\n",
        "                         'policy_inception_date': datetime.datetime.strptime(time[0]+'-'+time[1]+'-'+'20'+time[2]+' '+'00:00:00', '%d-%b-%Y %H:%M:%S'),\n",
        "                         'policy_expiry_date': datetime.datetime.strptime(time[6]+'-'+time[7]+'-'+'20'+time[8]+ ' '+'23:59:59', '%d-%b-%Y %H:%M:%S')}\n",
        "    elif sub5.lower() in data.lower():\n",
        "        split_text = data.split('\\n')\n",
        "        indexes = [i for i,x in enumerate(split_text) if x == 'Policy Period']\n",
        "        policy_number = split_text[indexes[0] + 4]\n",
        "        time = split_text[indexes[0] + 5].split(' ')\n",
        "        date1 = time[1].split(',')\n",
        "        date2 = time[8].split(',')\n",
        "        policy_detail = {'insurance_company': 'BHARTI AXA GENERAL INSURANCE COMPANY LTD',\n",
        "                         'policy_number': policy_number,\n",
        "                         'policy_inception_date':datetime.datetime.strptime(date1[0] + '-' + time[0]+'-'+time[2]+ ' '+'00:00:00', '%d-%B-%Y %H:%M:%S'),\n",
        "                         'policy_expiry_date':datetime.datetime.strptime(date2[0] + '-' + time[7]+'-'+time[9]+ ' '+'23:59:59', '%d-%B-%Y %H:%M:%S')}\n",
        "    elif sub6.lower() in data.lower():\n",
        "        split_text = data.split(' -')\n",
        "        policy_no = split_text[0]\n",
        "        policy = re.findall(r'\\d+', policy_no)\n",
        "        date = list(datefinder.find_dates(split_text[2]))\n",
        "        print(date)\n",
        "        policy_detail = {'insurance_company': 'HDFC ERGO General Insurance Company Limited',\n",
        "                         'policy_number': policy[0]+policy[1]+policy[2]+policy[3]+policy[4]}\n",
        "    elif sub7.lower() in data.lower():\n",
        "        split_text = data.split('\\n')\n",
        "        indexes = [i for i,x in enumerate(split_text) if x == 'Date of Issuance']\n",
        "        policy_n = split_text[indexes[0]-1].split(' ')\n",
        "        date1 = split_text[indexes[0] + 1].split('  ')\n",
        "        date2 = split_text[indexes[0] + 10].split(' On ')\n",
        "        policy_detail = {'insurance_company': 'IFFCO-TOKIO GENERAL INSURANCE CO.LTD',\n",
        "                         'policy_number': policy_n[3],\n",
        "                         'policy_inception_date':datetime.datetime.strptime(date1[6], '%d/%m/%Y %H:%M:%S'),\n",
        "                         'policy_expiry_date':datetime.datetime.strptime(date2[1], '%d/%m/%Y %H:%M:%S')}\n",
        "    elif sub8.lower() in data.lower():\n",
        "        split_text = data.split('\\n')\n",
        "        indexes = [i for i,x in enumerate(split_text) if x == 'INSURED DETAILS']\n",
        "        policy_n = split_text[indexes[0]-6].split(' ')\n",
        "        indexes2 = [i for i,x in enumerate(split_text) if x == 'Period of Insurance']\n",
        "        date1 = split_text[indexes2[0] + 2].split('  ')\n",
        "        date2 = split_text[indexes2[0] + 4].split(' ')\n",
        "        policy_detail = {'insurance_company': 'Future Generali India Insurance Company Limited',\n",
        "                         'policy_number': policy_n[1],\n",
        "                         'policy_inception_date':datetime.datetime.strptime(date1[1] + ' ' + '00:01:00', '%d/%m/%Y %H:%M:%S'),\n",
        "                         'policy_expiry_date':datetime.datetime.strptime(date2[3]+ ' ' + '23:59:59', '%d/%m/%Y %H:%M:%S')}\n",
        "    elif sub9.lower() in data.lower():\n",
        "        split_text = data.split('\\n')\n",
        "        indexes = [i for i,x in enumerate(split_text) if x == 'पॉिलसी संखया Policy Number: ']\n",
        "        res = [i for i in split_text if 'Policy Effective from' in i]\n",
        "        date = res[0].split(' ')\n",
        "        policy_detail = {'insurance_company': 'National Insurance Company Limited',\n",
        "                         'policy_number': split_text[indexes[0]+1],\n",
        "                         'policy_inception_date':datetime.datetime.strptime(date[13] + ' ' + date[10]+':00', '%d/%m/%Y %H:%M:%S'),\n",
        "                         'policy_expiry_date':datetime.datetime.strptime(date[20]+ ' ' + '23:59:59', '%d/%m/%Y %H:%M:%S')}\n",
        "    \n",
        "    elif sub11.lower() in data.lower():\n",
        "        split_text = data.split('\\n')\n",
        "        indexes = [i for i,x in enumerate(split_text) if x == 'Policy No. & Type']\n",
        "        indexes1 = [i for i,x in enumerate(split_text) if x == 'Accounting Code of Service']\n",
        "        print(split_text[indexes1[0]])\n",
        "        date = split_text[indexes1[0]+15].split(' ')\n",
        "        policy_detail = {'insurance_company':'ICICI LOMBARD GENERAL INSURANCE CO LTD',\n",
        "                         'policy_number': split_text[indexes[0]+25],\n",
        "                         'policy_inception_date':datetime.datetime.strptime(date[0] + ' ' + '00:01:00', '%d-%b-%Y %H:%M:%S'),\n",
        "                         'policy_expiry_date':datetime.datetime.strptime(date[2]+ ' ' + '23:59:59', '%d-%b-%Y %H:%M:%S')\n",
        "                         }\n",
        "    elif sub12.lower() in data.lower():\n",
        "        split_text = data.split('\\n')\n",
        "        indexes = [i for i, x in enumerate(split_text) if x == 'Policy No               :']\n",
        "        indexes1 = [i for i, x in enumerate(split_text) if x == 'Period of Insurance  :']\n",
        "        date = split_text[indexes1[0]+2].split(' ')\n",
        "        policy_detail = {'insurance_company': 'The Oriental Insurance Company Limited',\n",
        "                         'policy_number': split_text[indexes[0]+2],\n",
        "                         'policy_inception_date':datetime.datetime.strptime(date[4] + ' ' + '00:00:01', '%d/%m/%Y %H:%M:%S'),\n",
        "                         'policy_expiry_date':datetime.datetime.strptime(date[8]+ ' ' + '23:59:59', '%d/%m/%Y %H:%M:%S')\n",
        "                         }\n",
        "    elif sub13.lower() in data.lower():\n",
        "        split_text = data.split('\\n')\n",
        "        indexes = [i for i, x in enumerate(split_text) if x == 'Certificate of Insurance and Policy No.']\n",
        "        indexes1 = [i for i, x in enumerate(split_text) if x == 'Policy Period:']\n",
        "        date = split_text[indexes1[0]+1].split(' ')\n",
        "        policy_detail = {'insurance_company':'Royal Sundaram General Insurance Co. Limited',\n",
        "                         'policy_number': split_text[indexes[0]+1],\n",
        "                         'policy_inception_date':datetime.datetime.strptime(date[4] + ' ' + date[1], '%d/%m/%Y %H:%M:%S'),\n",
        "                         'policy_expiry_date':datetime.datetime.strptime(date[9]+ ' ' + date[6], '%d/%m/%Y %H:%M:%S')\n",
        "                         }\n",
        "    elif sub14.lower() in data.lower():\n",
        "        split_text = data.split('\\n')\n",
        "        indexes = [i for i, x in enumerate(split_text) if x == 'Policy No ']\n",
        "        indexes1 = [i for i, x in enumerate(split_text) if x == 'Gross Premium:']\n",
        "        date = split_text[indexes1[0]-1].split(' ')\n",
        "        policy_detail = {'insurance_company':'SHRIRAM GENERAL INSURANCE COMPANY LTD',\n",
        "                         'policy_number': split_text[indexes[0]+6],\n",
        "                         'policy_inception_date':datetime.datetime.strptime(date[7] + ' ' + '00:00:01', '%d/%m/%Y %H:%M:%S'),\n",
        "                         'policy_expiry_date':datetime.datetime.strptime(date[11]+ ' ' + '23:59:59', '%d/%m/%Y %H:%M:%S')\n",
        "                         }\n",
        "    elif sub15.lower() in data.lower():\n",
        "        string = find_between_r( data, \"Private Car Package PolicyPolicy Number\", \"Insured Details\" )\n",
        "        policy_n = string.split('Vehicle')\n",
        "        date = string.split(' ')\n",
        "        print(string)\n",
        "        date_from = find_between_r(string, 'CoverFrom: ', 'To:')\n",
        "        print(date_from)\n",
        "        policy_detail = {'insurance_company': 'THE NEW INDIA ASSURANCE CO. LTD',\n",
        "                         'policy_number': policy_n[0],\n",
        "                         'policy_inception_date':datetime.datetime.strptime(date_from, '%d/%m/%Y %I:%M:%S %p'),\n",
        "                         'policy_expiry_date':datetime.datetime.strptime(date[8]+ ' ' + '23:59:59', '%d/%m/%Y %H:%M:%S')\n",
        "                         }\n",
        "    elif sub16.lower() in data.lower():\n",
        "        string = find_between_r(data, \"Policy No.\", \"Registration No.\")\n",
        "        policy_n = string.split('\\xa0')\n",
        "        string1 = find_between_r(string, \"InsuranceFrom\", \"Particulars of Vehicle Insured\")\n",
        "        date = string1.split(' ')\n",
        "        policy_detail = {'insurance_company': 'UNITED INDIA INSURANCE COMPANY LIMITED',\n",
        "                         'policy_number': policy_n[0],\n",
        "                         'policy_inception_date':datetime.datetime.strptime(date[4] + ' '+'00:00:01', '%d/%m/%Y %H:%M:%S'),\n",
        "                         'policy_expiry_date':datetime.datetime.strptime(date[8]+ ' ' + '23:59:59', '%d/%m/%Y %H:%M:%S')\n",
        "                         }\n",
        "    elif sub17.lower() in data.lower():\n",
        "        data = data.replace(u'\\xa0', u' ')\n",
        "        string = find_between_r(data, \"Policy Details : Policy Number : \", \"Policy Period : From\")\n",
        "        string1 = find_between_r(data, \"Policy Period : From\", \"Premium Paid : \")\n",
        "        date = string1.split(' ')\n",
        "        policy_detail = {'insurance_company': 'Tata AIG General Insurance Company LTD',\n",
        "                         'policy_number': string,\n",
        "                         'policy_inception_date':datetime.datetime.strptime(date[1] + ' '+'00:00:01', '%d/%m/%Y %H:%M:%S'),\n",
        "                         'policy_expiry_date':datetime.datetime.strptime(date[5]+ ' ' + '23:59:59', '%d/%m/%Y %H:%M:%S')\n",
        "                         }\n",
        "\n",
        "    return data#, policy_detail"
      ],
      "execution_count": null,
      "outputs": []
    },
    {
      "cell_type": "code",
      "metadata": {
        "id": "1FhocNurKlbe"
      },
      "source": [
        "#text, policy = pdfparser_new('Bajaj INsurance POlicy.pdf')\n",
        "#text, policy = pdfparser_new('Edelwise Insurance Policy.pdf')\n",
        "#text, policy = pdfparser_new('Go Digit Insurance Policy.pdf')\n",
        "#text, policy = pdfparser_new('Acko Insurance Policy.pdf')\n",
        "#text, policy = pdfparser_new('Bharti Axa Insurance Policy.pdf')\n",
        "#text, policy = pdfparser_new('HDFC Insurance Policy.pdf') #### Do not run it\n",
        "#text, policy = pdfparser_new('Iffco Tokio Insurance Policy.pdf')\n",
        "#text, policy = pdfparser_new('Future Generali Insurance Policy.pdf')\n",
        "#text, policy = pdfparser_new('National Insurance Policy.pdf')\n",
        "#text = pdfparser_new('Kotak Insurance Policy.pdf')     #### Do not run it\n",
        "#text, policy = pdfparser_new('ICICI Insurance Policy.pdf')\n",
        "#text, policy = pdfparser_new('Oriental Insurance Policy.pdf')\n",
        "#text, policy = pdfparser_new('Royal Sundaram Insurance Policy.pdf')\n",
        "#text, policy = pdfparser_new('Shri Ram Insurance Policy.pdf')\n",
        "#text, policy = pdfparser_new('The New India Insurance Policy.pdf')\n",
        "#text, policy = pdfparser_new('United Insurance Policy.pdf')\n",
        "#text, policy = pdfparser_new('TATA AIG Insurance Policy.pdf')\n",
        "text = pdfparser_new('SBI Insurance Policy.pdf')"
      ],
      "execution_count": null,
      "outputs": []
    },
    {
      "cell_type": "code",
      "metadata": {
        "id": "GbZopeJzWBU1",
        "colab": {
          "base_uri": "https://localhost:8080/",
          "height": 85
        },
        "outputId": "69161fb1-3997-4c17-a52c-71e95a9610a5"
      },
      "source": [
        "import pprint\n",
        "pprint.pprint(policy)"
      ],
      "execution_count": null,
      "outputs": [
        {
          "output_type": "stream",
          "text": [
            "{'insurance_company': 'Tata AIG General Insurance Company LTD',\n",
            " 'policy_expiry_date': datetime.datetime(2020, 2, 13, 23, 59, 59),\n",
            " 'policy_inception_date': datetime.datetime(2019, 2, 14, 0, 0, 1),\n",
            " 'policy_number': '0159432761 00'}\n"
          ],
          "name": "stdout"
        }
      ]
    },
    {
      "cell_type": "code",
      "metadata": {
        "id": "w5t7X8IJKvKd",
        "colab": {
          "base_uri": "https://localhost:8080/",
          "height": 34
        },
        "outputId": "1c7d307e-c88d-4f8f-d718-b97c93fdf6a0"
      },
      "source": [
        "len(text)"
      ],
      "execution_count": null,
      "outputs": [
        {
          "output_type": "execute_result",
          "data": {
            "text/plain": [
              "30211"
            ]
          },
          "metadata": {
            "tags": []
          },
          "execution_count": 71
        }
      ]
    },
    {
      "cell_type": "code",
      "metadata": {
        "id": "HJMbQydVLEnH",
        "colab": {
          "base_uri": "https://localhost:8080/",
          "height": 35
        },
        "outputId": "f760275f-63dd-4519-d9b1-6b5ff646e9e1"
      },
      "source": [
        "text"
      ],
      "execution_count": null,
      "outputs": [
        {
          "output_type": "execute_result",
          "data": {
            "application/vnd.google.colaboratory.intrinsic": {
              "type": "string"
            },
            "text/plain": [
              "'\\x0c\\x0c\\x0c'"
            ]
          },
          "metadata": {
            "tags": []
          },
          "execution_count": 232
        }
      ]
    },
    {
      "cell_type": "code",
      "metadata": {
        "id": "uB1mt-kNMbyB",
        "colab": {
          "base_uri": "https://localhost:8080/",
          "height": 34
        },
        "outputId": "57014a91-2969-4151-ef31-7e4488a056d1"
      },
      "source": [
        "text.find('Policy Inception Date:', 1)"
      ],
      "execution_count": null,
      "outputs": [
        {
          "output_type": "execute_result",
          "data": {
            "text/plain": [
              "6042"
            ]
          },
          "metadata": {
            "tags": []
          },
          "execution_count": 61
        }
      ]
    },
    {
      "cell_type": "code",
      "metadata": {
        "id": "lxrpbT-qDHFN",
        "colab": {
          "base_uri": "https://localhost:8080/",
          "height": 35
        },
        "outputId": "79f50bd7-29d1-4977-a10a-0f1cb7d21c22"
      },
      "source": [
        "text[6070]"
      ],
      "execution_count": null,
      "outputs": [
        {
          "output_type": "execute_result",
          "data": {
            "application/vnd.google.colaboratory.intrinsic": {
              "type": "string"
            },
            "text/plain": [
              "'1'"
            ]
          },
          "metadata": {
            "tags": []
          },
          "execution_count": 70
        }
      ]
    },
    {
      "cell_type": "code",
      "metadata": {
        "id": "Je0RlLHROzmd"
      },
      "source": [
        "text_split = text.split('\\xa0')"
      ],
      "execution_count": null,
      "outputs": []
    },
    {
      "cell_type": "code",
      "metadata": {
        "id": "Oj4u-HmJpZUQ",
        "colab": {
          "base_uri": "https://localhost:8080/",
          "height": 1000
        },
        "outputId": "3298d9d5-c197-4395-aac6-f555b5f4a402"
      },
      "source": [
        "text_split"
      ],
      "execution_count": null,
      "outputs": [
        {
          "output_type": "execute_result",
          "data": {
            "text/plain": [
              "['Auto',\n",
              " 'Secure',\n",
              " 'Private',\n",
              " 'Car',\n",
              " 'Package',\n",
              " 'PolicyName',\n",
              " ':',\n",
              " 'MR',\n",
              " 'GEETESH',\n",
              " 'BHARJAddress',\n",
              " ':',\n",
              " 'B',\n",
              " '11/GF',\n",
              " 'B',\n",
              " 'BLOCK',\n",
              " 'SHIVAJI',\n",
              " 'VIHARJANTA',\n",
              " 'COLONYDELHI',\n",
              " '\\xad',\n",
              " '110027DELHIDELHIINDIADate',\n",
              " ':',\n",
              " '14/02/2019Your',\n",
              " 'Policy',\n",
              " 'Details',\n",
              " ':',\n",
              " 'Policy',\n",
              " 'Number',\n",
              " ':',\n",
              " '0159432761',\n",
              " '00Policy',\n",
              " 'Period',\n",
              " ':',\n",
              " 'From',\n",
              " '14/02/2019',\n",
              " 'to.',\n",
              " 'Midnight',\n",
              " 'Of',\n",
              " '13/02/2020',\n",
              " 'Premium',\n",
              " 'Paid',\n",
              " ':',\n",
              " '',\n",
              " '20,461.00Dear',\n",
              " 'MR',\n",
              " 'GEETESH',\n",
              " 'BHARJ,Welcome',\n",
              " 'to',\n",
              " 'Tata',\n",
              " 'AIG',\n",
              " 'General',\n",
              " 'Insurance',\n",
              " 'Company',\n",
              " 'Limited’s',\n",
              " 'family',\n",
              " '&',\n",
              " 'we',\n",
              " 'thankyou',\n",
              " 'for',\n",
              " 'choosing',\n",
              " 'our',\n",
              " 'Auto',\n",
              " 'Secure',\n",
              " 'Private',\n",
              " 'Car',\n",
              " 'Package',\n",
              " 'Policy',\n",
              " 'for',\n",
              " 'your',\n",
              " 'vehicleinsurance.We',\n",
              " 'are',\n",
              " 'enclosing',\n",
              " 'Policy',\n",
              " 'schedule',\n",
              " 'cum',\n",
              " 'certificate',\n",
              " 'of',\n",
              " 'insurance',\n",
              " 'of',\n",
              " 'your',\n",
              " 'vehicle.You',\n",
              " 'are',\n",
              " 'requested',\n",
              " 'to',\n",
              " 'visit',\n",
              " 'our',\n",
              " 'website',\n",
              " 'www.tataaiginsurance.in',\n",
              " 'for',\n",
              " 'policywording.We',\n",
              " 'would',\n",
              " 'like',\n",
              " 'to',\n",
              " 'inform',\n",
              " 'you',\n",
              " 'that',\n",
              " 'policy',\n",
              " 'has',\n",
              " 'been',\n",
              " 'issued',\n",
              " 'based',\n",
              " 'on',\n",
              " 'theinformation',\n",
              " 'and',\n",
              " 'declaration',\n",
              " 'provided',\n",
              " 'by',\n",
              " 'you.',\n",
              " 'No',\n",
              " 'Claim',\n",
              " 'Bonus',\n",
              " '(NCB)',\n",
              " 'if',\n",
              " 'shownon',\n",
              " 'your',\n",
              " 'policy',\n",
              " 'schedule',\n",
              " 'has',\n",
              " 'been',\n",
              " 'allowed',\n",
              " 'as',\n",
              " 'you',\n",
              " 'had',\n",
              " 'not',\n",
              " 'reported',\n",
              " 'any',\n",
              " 'claimin',\n",
              " 'the',\n",
              " 'previous',\n",
              " 'policy.Kindly',\n",
              " 'go',\n",
              " 'through',\n",
              " 'the',\n",
              " 'enclosed',\n",
              " 'information/declaration',\n",
              " 'provided',\n",
              " 'by',\n",
              " 'you',\n",
              " 'and',\n",
              " 'incase',\n",
              " 'your',\n",
              " 'policy',\n",
              " 'shows',\n",
              " 'No',\n",
              " 'Claim',\n",
              " 'Bonus,',\n",
              " 'for',\n",
              " 'which',\n",
              " 'you',\n",
              " 'are',\n",
              " 'not',\n",
              " 'entitled',\n",
              " 'asexplained',\n",
              " 'above',\n",
              " 'or',\n",
              " 'any',\n",
              " 'other',\n",
              " 'error/discrepancy',\n",
              " 'then',\n",
              " 'we',\n",
              " 'request',\n",
              " 'you',\n",
              " 'to',\n",
              " 'get',\n",
              " 'intouch',\n",
              " 'with',\n",
              " 'us',\n",
              " 'within',\n",
              " '15',\n",
              " 'days',\n",
              " 'of',\n",
              " 'receipt',\n",
              " 'of',\n",
              " 'the',\n",
              " 'policy',\n",
              " 'for',\n",
              " 'correction',\n",
              " 'otherwiseall',\n",
              " 'particulars',\n",
              " 'will',\n",
              " 'be',\n",
              " 'deemed',\n",
              " 'to',\n",
              " 'be',\n",
              " 'correct.You',\n",
              " 'may',\n",
              " 'reach',\n",
              " 'us',\n",
              " 'at',\n",
              " 'our',\n",
              " '24*7',\n",
              " 'helpline',\n",
              " '1800',\n",
              " '266',\n",
              " '7780',\n",
              " 'for',\n",
              " 'providing',\n",
              " 'anyinformation',\n",
              " 'or',\n",
              " 'in',\n",
              " 'case',\n",
              " 'you',\n",
              " 'desire',\n",
              " 'to',\n",
              " 'have',\n",
              " 'a',\n",
              " 'printed',\n",
              " 'copy',\n",
              " 'of',\n",
              " 'policy',\n",
              " 'wording.We,',\n",
              " 'thank',\n",
              " 'you',\n",
              " 'once',\n",
              " 'again,',\n",
              " 'for',\n",
              " 'choosing',\n",
              " 'Tata',\n",
              " 'AIG',\n",
              " 'General',\n",
              " 'Insurance',\n",
              " 'CompanyLimited',\n",
              " 'for',\n",
              " 'insuring',\n",
              " 'your',\n",
              " 'vehicle.',\n",
              " 'We',\n",
              " 'assure',\n",
              " 'you',\n",
              " 'of',\n",
              " 'our',\n",
              " 'best',\n",
              " 'of',\n",
              " 'services',\n",
              " 'at',\n",
              " 'alltimes.',\n",
              " 'Happy',\n",
              " 'driving!',\n",
              " 'Sincerely,For',\n",
              " 'Tata',\n",
              " 'AIG',\n",
              " 'General',\n",
              " 'Insurance',\n",
              " 'Company',\n",
              " 'LTD.Authorized',\n",
              " 'Signatory',\n",
              " '',\n",
              " '',\n",
              " '',\n",
              " '',\n",
              " '',\n",
              " '',\n",
              " 'TATA',\n",
              " 'AIG',\n",
              " 'General',\n",
              " 'Insurance',\n",
              " 'Company',\n",
              " 'Ltd.',\n",
              " 'Regd.',\n",
              " 'Office:',\n",
              " '15th',\n",
              " 'floor,',\n",
              " 'Tower',\n",
              " 'A,',\n",
              " 'Peninsula',\n",
              " 'Business',\n",
              " 'Park,Ganpatrao',\n",
              " 'Kadam',\n",
              " 'Marg,',\n",
              " 'Off',\n",
              " 'Senapati',\n",
              " 'Bapat',\n",
              " 'Marg,',\n",
              " 'Lower',\n",
              " 'Parel,',\n",
              " 'Mumbai\\xad',\n",
              " '400',\n",
              " '013.',\n",
              " '',\n",
              " '',\n",
              " '',\n",
              " '',\n",
              " '',\n",
              " '',\n",
              " '',\n",
              " '',\n",
              " '',\n",
              " '',\n",
              " '',\n",
              " '',\n",
              " '',\n",
              " '',\n",
              " '',\n",
              " '',\n",
              " '',\n",
              " '',\n",
              " '',\n",
              " '',\n",
              " '',\n",
              " '',\n",
              " '',\n",
              " '',\n",
              " '',\n",
              " '',\n",
              " '',\n",
              " '',\n",
              " '',\n",
              " '',\n",
              " '',\n",
              " '',\n",
              " '',\n",
              " '',\n",
              " '',\n",
              " '',\n",
              " '',\n",
              " '',\n",
              " '',\n",
              " '',\n",
              " '',\n",
              " '',\n",
              " '',\n",
              " '',\n",
              " '',\n",
              " '',\n",
              " '',\n",
              " '',\n",
              " '',\n",
              " '',\n",
              " '',\n",
              " '',\n",
              " '',\n",
              " '',\n",
              " '',\n",
              " '',\n",
              " '',\n",
              " '',\n",
              " '',\n",
              " '',\n",
              " '',\n",
              " '',\n",
              " '',\n",
              " '',\n",
              " '',\n",
              " '',\n",
              " '',\n",
              " '',\n",
              " '',\n",
              " '',\n",
              " '',\n",
              " '',\n",
              " '',\n",
              " '',\n",
              " '',\n",
              " '',\n",
              " 'IRDA',\n",
              " 'Registration',\n",
              " 'No.108,',\n",
              " 'CIN',\n",
              " 'No',\n",
              " ':',\n",
              " 'U85110MH2000PLC128425,',\n",
              " 'PAN',\n",
              " ':',\n",
              " 'AABCT3518Q,',\n",
              " 'UIN',\n",
              " 'No.:',\n",
              " 'IRDAN108P0002V01200001',\n",
              " '',\n",
              " '',\n",
              " '',\n",
              " '',\n",
              " '',\n",
              " '',\n",
              " '',\n",
              " '',\n",
              " '',\n",
              " '',\n",
              " '',\n",
              " '',\n",
              " '',\n",
              " '',\n",
              " '',\n",
              " '',\n",
              " '',\n",
              " '',\n",
              " '',\n",
              " '',\n",
              " '',\n",
              " '',\n",
              " '',\n",
              " '',\n",
              " '',\n",
              " '',\n",
              " '',\n",
              " '',\n",
              " '',\n",
              " '',\n",
              " '',\n",
              " '',\n",
              " '',\n",
              " '',\n",
              " '',\n",
              " '',\n",
              " '',\n",
              " '',\n",
              " '',\n",
              " '',\n",
              " '',\n",
              " '',\n",
              " '',\n",
              " '',\n",
              " '',\n",
              " '',\n",
              " '',\n",
              " '',\n",
              " '',\n",
              " '',\n",
              " '',\n",
              " '',\n",
              " '',\n",
              " '',\n",
              " '',\n",
              " '',\n",
              " '',\n",
              " '',\n",
              " '',\n",
              " '',\n",
              " '',\n",
              " '',\n",
              " '',\n",
              " '',\n",
              " '',\n",
              " '',\n",
              " '',\n",
              " '',\n",
              " '',\n",
              " '',\n",
              " '',\n",
              " 'Website:',\n",
              " 'www.tataaig.com',\n",
              " '24X7',\n",
              " 'Tollfree',\n",
              " 'Helpline',\n",
              " '1800\\xad266\\xad7780',\n",
              " 'E\\xadmail:',\n",
              " 'customersupport@tataaig.com\\x0c',\n",
              " '',\n",
              " '^Premium',\n",
              " 'mentioned',\n",
              " 'covers',\n",
              " 'Self',\n",
              " 'and',\n",
              " 'Family',\n",
              " 'and',\n",
              " 'is',\n",
              " 'Inclusive',\n",
              " 'of',\n",
              " 'All',\n",
              " 'Applicable',\n",
              " 'Taxes,',\n",
              " 'Conditions',\n",
              " 'apply.',\n",
              " '#Premium',\n",
              " 'mentioned',\n",
              " 'is',\n",
              " 'Inclusive',\n",
              " 'of',\n",
              " 'All',\n",
              " 'Applicable',\n",
              " 'Taxes,',\n",
              " 'Conditions',\n",
              " 'apply.',\n",
              " '*Tax',\n",
              " 'benefit',\n",
              " 'under',\n",
              " 'section',\n",
              " '80D',\n",
              " 'of',\n",
              " 'Income',\n",
              " 'Tax',\n",
              " 'Act',\n",
              " '1961.',\n",
              " 'Tax',\n",
              " 'benefits',\n",
              " 'are',\n",
              " 'subject',\n",
              " 'to',\n",
              " 'changes',\n",
              " 'in',\n",
              " 'tax',\n",
              " 'laws.',\n",
              " 'If',\n",
              " 'one',\n",
              " 'purchases',\n",
              " 'a',\n",
              " 'health',\n",
              " 'insurance',\n",
              " 'policy',\n",
              " 'forself/spouse/children,',\n",
              " 'he/she',\n",
              " 'can',\n",
              " 'claim',\n",
              " 'a',\n",
              " 'tax',\n",
              " 'deduction',\n",
              " 'of',\n",
              " 'upto',\n",
              " '',\n",
              " '25000.',\n",
              " 'When',\n",
              " 'one',\n",
              " 'purchases',\n",
              " 'a',\n",
              " 'health',\n",
              " 'insurance',\n",
              " 'policy',\n",
              " 'for',\n",
              " 'parents',\n",
              " '(a',\n",
              " 'senior',\n",
              " 'citizen),',\n",
              " 'he/she',\n",
              " 'iseligible',\n",
              " 'for',\n",
              " 'an',\n",
              " 'additional',\n",
              " 'tax',\n",
              " 'deduction',\n",
              " 'benefit',\n",
              " 'upto',\n",
              " '',\n",
              " '30000.Purchase',\n",
              " 'of',\n",
              " 'Tata',\n",
              " 'AIG',\n",
              " 'General',\n",
              " 'Insurance',\n",
              " 'Company',\n",
              " 'Limited',\n",
              " 'products',\n",
              " 'are',\n",
              " 'purely',\n",
              " 'on',\n",
              " 'voluntary',\n",
              " 'basis.',\n",
              " 'Insurance',\n",
              " 'is',\n",
              " 'the',\n",
              " 'subject',\n",
              " 'matter',\n",
              " 'of',\n",
              " 'the',\n",
              " 'solicitation.',\n",
              " 'For',\n",
              " 'moredetails',\n",
              " 'on',\n",
              " 'risk',\n",
              " 'factors,',\n",
              " 'terms',\n",
              " 'and',\n",
              " 'conditions',\n",
              " 'please',\n",
              " 'read',\n",
              " 'sales',\n",
              " 'brochure',\n",
              " 'carefully',\n",
              " 'before',\n",
              " 'concluding',\n",
              " 'a',\n",
              " 'sale.Accident',\n",
              " 'Guard',\n",
              " 'Policy',\n",
              " 'UIN:',\n",
              " 'IRDA/NL\\xadHLT/TAGI/P\\xadP/V.I/195/13\\xad14',\n",
              " 'MediPrime',\n",
              " 'UIN:IRDA/NL\\xadHLT/TAGI/P\\xadH/V.I/34/13\\xad14',\n",
              " 'Homesecure',\n",
              " '(Householders)',\n",
              " 'InstachoicePolicy',\n",
              " 'for',\n",
              " 'health',\n",
              " 'component',\n",
              " 'i.e.',\n",
              " 'Personal',\n",
              " 'Accident',\n",
              " 'cover',\n",
              " 'UIN:',\n",
              " '53/IRDAI/HLT/TAGI/NL\\xadPACKAGE/2015\\xad16',\n",
              " '',\n",
              " '',\n",
              " '',\n",
              " '',\n",
              " '',\n",
              " 'TATA',\n",
              " 'AIG',\n",
              " 'General',\n",
              " 'Insurance',\n",
              " 'Company',\n",
              " 'Ltd.',\n",
              " 'Regd.',\n",
              " 'Office:',\n",
              " '15th',\n",
              " 'floor,',\n",
              " 'Tower',\n",
              " 'A,',\n",
              " 'Peninsula',\n",
              " 'Business',\n",
              " 'Park,Ganpatrao',\n",
              " 'Kadam',\n",
              " 'Marg,',\n",
              " 'Off',\n",
              " 'Senapati',\n",
              " 'Bapat',\n",
              " 'Marg,',\n",
              " 'Lower',\n",
              " 'Parel,',\n",
              " 'Mumbai\\xad',\n",
              " '400',\n",
              " '013.',\n",
              " '',\n",
              " '',\n",
              " '',\n",
              " '',\n",
              " '',\n",
              " '',\n",
              " '',\n",
              " '',\n",
              " '',\n",
              " '',\n",
              " '',\n",
              " '',\n",
              " '',\n",
              " '',\n",
              " '',\n",
              " '',\n",
              " '',\n",
              " '',\n",
              " '',\n",
              " '',\n",
              " '',\n",
              " '',\n",
              " '',\n",
              " '',\n",
              " '',\n",
              " '',\n",
              " '',\n",
              " '',\n",
              " '',\n",
              " '',\n",
              " '',\n",
              " '',\n",
              " '',\n",
              " '',\n",
              " '',\n",
              " '',\n",
              " '',\n",
              " '',\n",
              " '',\n",
              " '',\n",
              " '',\n",
              " '',\n",
              " '',\n",
              " '',\n",
              " '',\n",
              " '',\n",
              " '',\n",
              " '',\n",
              " '',\n",
              " '',\n",
              " '',\n",
              " '',\n",
              " '',\n",
              " '',\n",
              " '',\n",
              " '',\n",
              " '',\n",
              " '',\n",
              " '',\n",
              " '',\n",
              " '',\n",
              " '',\n",
              " '',\n",
              " '',\n",
              " '',\n",
              " '',\n",
              " '',\n",
              " '',\n",
              " '',\n",
              " '',\n",
              " '',\n",
              " '',\n",
              " '',\n",
              " '',\n",
              " '',\n",
              " '',\n",
              " 'IRDA',\n",
              " 'Registration',\n",
              " 'No.108,',\n",
              " 'CIN',\n",
              " 'No',\n",
              " ':',\n",
              " 'U85110MH2000PLC128425,',\n",
              " 'PAN',\n",
              " ':',\n",
              " 'AABCT3518Q,',\n",
              " 'UIN',\n",
              " 'No.:',\n",
              " 'IRDAN108P0002V01200001',\n",
              " '',\n",
              " '',\n",
              " '',\n",
              " '',\n",
              " '',\n",
              " '',\n",
              " '',\n",
              " '',\n",
              " '',\n",
              " '',\n",
              " '',\n",
              " '',\n",
              " '',\n",
              " '',\n",
              " '',\n",
              " '',\n",
              " '',\n",
              " '',\n",
              " '',\n",
              " '',\n",
              " '',\n",
              " '',\n",
              " '',\n",
              " '',\n",
              " '',\n",
              " '',\n",
              " '',\n",
              " '',\n",
              " '',\n",
              " '',\n",
              " '',\n",
              " '',\n",
              " '',\n",
              " '',\n",
              " '',\n",
              " '',\n",
              " '',\n",
              " '',\n",
              " '',\n",
              " '',\n",
              " '',\n",
              " '',\n",
              " '',\n",
              " '',\n",
              " '',\n",
              " '',\n",
              " '',\n",
              " '',\n",
              " '',\n",
              " '',\n",
              " '',\n",
              " '',\n",
              " '',\n",
              " '',\n",
              " '',\n",
              " '',\n",
              " '',\n",
              " '',\n",
              " '',\n",
              " '',\n",
              " '',\n",
              " '',\n",
              " '',\n",
              " '',\n",
              " '',\n",
              " '',\n",
              " '',\n",
              " '',\n",
              " '',\n",
              " '',\n",
              " '',\n",
              " 'Website:',\n",
              " 'www.tataaig.com',\n",
              " '24X7',\n",
              " 'Tollfree',\n",
              " 'Helpline',\n",
              " '1800\\xad266\\xad7780',\n",
              " 'E\\xadmail:',\n",
              " 'customersupport@tataaig.com\\x0c',\n",
              " 'Certificate',\n",
              " 'Of',\n",
              " 'Insurance',\n",
              " 'and',\n",
              " 'Policy',\n",
              " 'Schedule',\n",
              " 'Form',\n",
              " '51',\n",
              " 'of',\n",
              " 'the',\n",
              " 'Central',\n",
              " 'Motor',\n",
              " 'Vehicle',\n",
              " 'Rules,',\n",
              " '1989Agent/Broker/Producer',\n",
              " 'Name:',\n",
              " 'D2C',\n",
              " 'INSURANCE',\n",
              " 'BROKING',\n",
              " 'PVT',\n",
              " 'LTDAgent/Broker',\n",
              " 'License',\n",
              " 'Code:',\n",
              " '505;',\n",
              " 'Agent/Broker',\n",
              " 'Contact',\n",
              " 'No.:',\n",
              " '18004197852',\n",
              " 'Certificate',\n",
              " '&',\n",
              " 'Policy',\n",
              " 'No.:',\n",
              " '0159432761',\n",
              " '00',\n",
              " 'Policy',\n",
              " 'Type:',\n",
              " 'Auto',\n",
              " 'Secure',\n",
              " '\\xad',\n",
              " 'Private',\n",
              " 'Car',\n",
              " 'Package',\n",
              " 'Policy',\n",
              " 'Period',\n",
              " 'of',\n",
              " 'Insurance:',\n",
              " 'From',\n",
              " '15:05',\n",
              " 'Hrs',\n",
              " 'on',\n",
              " '14/02/2019',\n",
              " '',\n",
              " 'Date',\n",
              " 'of',\n",
              " 'Expiry',\n",
              " 'To',\n",
              " 'midnight',\n",
              " 'of',\n",
              " '13/02/2020',\n",
              " 'Insured',\n",
              " 'Name',\n",
              " '&',\n",
              " 'Address:',\n",
              " 'Premium',\n",
              " '(Inclusive',\n",
              " 'of',\n",
              " 'AllApplicable',\n",
              " 'Taxes)',\n",
              " '20,461.00',\n",
              " 'MR',\n",
              " 'GEETESH',\n",
              " 'BHARJB',\n",
              " '11/GF',\n",
              " 'B',\n",
              " 'BLOCK',\n",
              " 'SHIVAJI',\n",
              " 'VIHARJANTA',\n",
              " 'COLONYDELHI',\n",
              " '\\xad',\n",
              " '110027DELHIDELHIINDIA',\n",
              " 'Insured',\n",
              " 'Business/Profession:OTHER',\n",
              " '',\n",
              " 'Geographical',\n",
              " 'Area:India',\n",
              " '',\n",
              " 'Registration',\n",
              " 'Authority:New',\n",
              " 'Delhi:',\n",
              " 'Tilak',\n",
              " 'Marg',\n",
              " '',\n",
              " 'HPA',\n",
              " '/',\n",
              " 'Hyp',\n",
              " '/',\n",
              " 'Lease',\n",
              " 'to:TATA',\n",
              " 'CAPITAL',\n",
              " 'FINANCIAL',\n",
              " 'SERVICES',\n",
              " 'LTD',\n",
              " 'Registration',\n",
              " 'No.Make',\n",
              " '&',\n",
              " 'ModelEngine',\n",
              " 'No.Chassis',\n",
              " 'No.CCMfg.',\n",
              " 'YearBody',\n",
              " 'TypeSeatingCapacityDL',\n",
              " '',\n",
              " '02',\n",
              " '',\n",
              " 'CAX',\n",
              " '',\n",
              " '7314MARUTI',\n",
              " 'CIAZ',\n",
              " '\\xad',\n",
              " 'DELTASMART',\n",
              " 'HYBRID',\n",
              " '3099380',\n",
              " '291200',\n",
              " '1248',\n",
              " '2017',\n",
              " 'SALOON',\n",
              " '5IDV',\n",
              " 'of',\n",
              " 'Vehicle()IDV',\n",
              " 'of',\n",
              " 'trailers()Bi\\xadFuel/CNG/LPGKit()IDV',\n",
              " 'of',\n",
              " 'non\\xadbuilt\\xadin',\n",
              " 'Accessories()Total',\n",
              " 'InsuredDeclaredValues(IDV)',\n",
              " '\\xad',\n",
              " '()ElectricalNon\\xadElectrical',\n",
              " '700,000.00',\n",
              " '0.00',\n",
              " '0.00',\n",
              " '0.00',\n",
              " '0.00',\n",
              " '700,000.00SCHEDULE',\n",
              " 'OF',\n",
              " 'PREMIUMA.',\n",
              " 'OWN',\n",
              " 'DAMAGEPremium',\n",
              " 'on',\n",
              " 'Vehicle',\n",
              " 'and',\n",
              " 'non',\n",
              " 'electrical',\n",
              " 'accessories10,341.45A.',\n",
              " 'TOTAL',\n",
              " 'OWN',\n",
              " 'DAMAGE',\n",
              " 'PREMIUM10,341.45Add:',\n",
              " 'Key',\n",
              " 'Replacement',\n",
              " '(Sum',\n",
              " 'Insured',\n",
              " '(SI)',\n",
              " '',\n",
              " '25,000.00',\n",
              " 'per',\n",
              " 'occurrence',\n",
              " 'limit50%',\n",
              " 'of',\n",
              " 'SI)',\n",
              " '(TA15)265.00Add:',\n",
              " 'Depreciation',\n",
              " 'reimbursement',\n",
              " '(TA01)3,150.00Add:',\n",
              " 'Emergency',\n",
              " 'transport',\n",
              " 'and',\n",
              " 'hotel',\n",
              " 'expenses',\n",
              " '(TA10)Any',\n",
              " 'One',\n",
              " 'Accident',\n",
              " ':',\n",
              " '',\n",
              " '5000Any',\n",
              " 'One',\n",
              " 'Year',\n",
              " ':',\n",
              " '',\n",
              " '10000110.00Add:',\n",
              " 'Loss',\n",
              " 'of',\n",
              " 'Personal',\n",
              " 'belonging',\n",
              " '(TA09)Sum',\n",
              " 'Insured',\n",
              " ':',\n",
              " '',\n",
              " '10000110.00C.',\n",
              " 'TOTAL',\n",
              " 'ADD',\n",
              " 'ON',\n",
              " 'PREMIUM3,635.00B.',\n",
              " 'LIABILITYBasic2,863.00Three',\n",
              " 'Year',\n",
              " 'Compulsory',\n",
              " 'PA',\n",
              " 'Cover',\n",
              " 'for',\n",
              " 'Owner\\xadDriver',\n",
              " '1500000450.00Add:',\n",
              " 'Legal',\n",
              " 'Liability',\n",
              " 'to',\n",
              " 'paid',\n",
              " 'driver',\n",
              " ...]"
            ]
          },
          "metadata": {
            "tags": []
          },
          "execution_count": 186
        }
      ]
    },
    {
      "cell_type": "code",
      "metadata": {
        "id": "7zBXAJT2DRG1",
        "colab": {
          "base_uri": "https://localhost:8080/",
          "height": 34
        },
        "outputId": "4bcef8eb-6770-4fe4-c6c3-f354ec0dade8"
      },
      "source": [
        "indexes = [i for i,x in enumerate(text_split) if x == 'Accounting Code of Service']\n",
        "indexes"
      ],
      "execution_count": null,
      "outputs": [
        {
          "output_type": "execute_result",
          "data": {
            "text/plain": [
              "[39]"
            ]
          },
          "metadata": {
            "tags": []
          },
          "execution_count": 20
        }
      ]
    },
    {
      "cell_type": "code",
      "metadata": {
        "id": "Pr0VlQOqE6n8",
        "colab": {
          "base_uri": "https://localhost:8080/",
          "height": 35
        },
        "outputId": "7ea17fe1-25bb-4241-9189-da9990edb432"
      },
      "source": [
        "text_split[45]"
      ],
      "execution_count": null,
      "outputs": [
        {
          "output_type": "execute_result",
          "data": {
            "application/vnd.google.colaboratory.intrinsic": {
              "type": "string"
            },
            "text/plain": [
              "'16-Apr-2020 to 15-Apr-2021'"
            ]
          },
          "metadata": {
            "tags": []
          },
          "execution_count": 52
        }
      ]
    },
    {
      "cell_type": "code",
      "metadata": {
        "id": "ShBO4EDcbKTp",
        "colab": {
          "base_uri": "https://localhost:8080/",
          "height": 187
        },
        "outputId": "bef45a2e-d2b0-4355-ae6c-792ad2939b3c"
      },
      "source": [
        "text_split[313].split(' ')"
      ],
      "execution_count": null,
      "outputs": [
        {
          "output_type": "execute_result",
          "data": {
            "text/plain": [
              "['January',\n",
              " '28,',\n",
              " '2020',\n",
              " '0.00',\n",
              " 'to',\n",
              " 'Midnight',\n",
              " 'of',\n",
              " 'January',\n",
              " '27,',\n",
              " '2021']"
            ]
          },
          "metadata": {
            "tags": []
          },
          "execution_count": 29
        }
      ]
    },
    {
      "cell_type": "code",
      "metadata": {
        "id": "FqXz4RtJQBDY"
      },
      "source": [
        "res = [i for i in text_split if 'Policy Effective from' in i]"
      ],
      "execution_count": null,
      "outputs": []
    },
    {
      "cell_type": "code",
      "metadata": {
        "id": "QWj7zzH8R8mh",
        "colab": {
          "base_uri": "https://localhost:8080/",
          "height": 34
        },
        "outputId": "126328de-3ae7-49eb-d1e5-86b4f8a1a48d"
      },
      "source": [
        "res"
      ],
      "execution_count": null,
      "outputs": [
        {
          "output_type": "execute_result",
          "data": {
            "text/plain": [
              "['  पॉिलसी पभावी समय घंटे, को Policy Effective from 17:30 hours, on 01/07/2019 की अधरराित तक to midnight of 30/06/2020']"
            ]
          },
          "metadata": {
            "tags": []
          },
          "execution_count": 119
        }
      ]
    },
    {
      "cell_type": "code",
      "metadata": {
        "id": "rSD4BdYWR95J",
        "colab": {
          "base_uri": "https://localhost:8080/",
          "height": 35
        },
        "outputId": "bedc673b-cdf8-4932-f89f-9b8aec2b3371"
      },
      "source": [
        "text_split[770]"
      ],
      "execution_count": null,
      "outputs": [
        {
          "output_type": "execute_result",
          "data": {
            "application/vnd.google.colaboratory.intrinsic": {
              "type": "string"
            },
            "text/plain": [
              "'11:18'"
            ]
          },
          "metadata": {
            "tags": []
          },
          "execution_count": 56
        }
      ]
    },
    {
      "cell_type": "code",
      "metadata": {
        "id": "x6guJu0RSDBT",
        "colab": {
          "base_uri": "https://localhost:8080/",
          "height": 35
        },
        "outputId": "aeeff28e-c0d2-495c-8c46-ef435f4ad173"
      },
      "source": [
        "text_split[370]"
      ],
      "execution_count": null,
      "outputs": [
        {
          "output_type": "execute_result",
          "data": {
            "application/vnd.google.colaboratory.intrinsic": {
              "type": "string"
            },
            "text/plain": [
              "'18 Oct 19 (00:00 hrs) to 17 Oct 20 (23:59'"
            ]
          },
          "metadata": {
            "tags": []
          },
          "execution_count": 17
        }
      ]
    },
    {
      "cell_type": "code",
      "metadata": {
        "id": "bLUbycofSFoG"
      },
      "source": [
        "policy_number = text_split[24].split('\\t')"
      ],
      "execution_count": null,
      "outputs": []
    },
    {
      "cell_type": "code",
      "metadata": {
        "id": "xaZMLhgFSSok",
        "colab": {
          "base_uri": "https://localhost:8080/",
          "height": 34
        },
        "outputId": "2e8ad8a8-e551-4a1a-c421-a1938bb4f64d"
      },
      "source": [
        "policy_number"
      ],
      "execution_count": null,
      "outputs": [
        {
          "output_type": "execute_result",
          "data": {
            "text/plain": [
              "['Policy/Certificate', 'No.', '', '900047026']"
            ]
          },
          "metadata": {
            "tags": []
          },
          "execution_count": 34
        }
      ]
    },
    {
      "cell_type": "code",
      "metadata": {
        "id": "tWz7lEspVAgA",
        "colab": {
          "base_uri": "https://localhost:8080/",
          "height": 102
        },
        "outputId": "07225830-9c5c-4405-a052-78aaf6b65c09"
      },
      "source": [
        "pip install pdf2image"
      ],
      "execution_count": null,
      "outputs": [
        {
          "output_type": "stream",
          "text": [
            "Collecting pdf2image\n",
            "  Downloading https://files.pythonhosted.org/packages/c6/62/bf2df0547cf4e216b329a9d39a7aa6c755f02071e63e17a4b76690ebfe20/pdf2image-1.13.1-py3-none-any.whl\n",
            "Requirement already satisfied: pillow in /usr/local/lib/python3.6/dist-packages (from pdf2image) (7.0.0)\n",
            "Installing collected packages: pdf2image\n",
            "Successfully installed pdf2image-1.13.1\n"
          ],
          "name": "stdout"
        }
      ]
    },
    {
      "cell_type": "code",
      "metadata": {
        "id": "JSzxOmhJzGMJ",
        "colab": {
          "base_uri": "https://localhost:8080/",
          "height": 102
        },
        "outputId": "62c6f821-d9d6-476f-c5b8-e976556ffc68"
      },
      "source": [
        "!ls"
      ],
      "execution_count": null,
      "outputs": [
        {
          "output_type": "stream",
          "text": [
            "'Acko Insurance Policy.pdf'\t   'HDFC Insurance Policy.pdf'\n",
            "'Bajaj INsurance POlicy.pdf'\t   'Iffco Tokio Insurance Policy.pdf'\n",
            "'Bharti Axa Insurance Policy.pdf'   insurance_date_extractor.ipynb\n",
            "'Edelwise Insurance Policy.pdf'     pdfquery.ipynb\n",
            "'Go Digit Insurance Policy.pdf'\n"
          ],
          "name": "stdout"
        }
      ]
    },
    {
      "cell_type": "code",
      "metadata": {
        "id": "MyN86eEmzgqa",
        "colab": {
          "base_uri": "https://localhost:8080/",
          "height": 340
        },
        "outputId": "baa891f7-5cee-4109-fcae-c63f2dc2e3f3"
      },
      "source": [
        "!apt-get install poppler-utils"
      ],
      "execution_count": null,
      "outputs": [
        {
          "output_type": "stream",
          "text": [
            "Reading package lists... Done\n",
            "Building dependency tree       \n",
            "Reading state information... Done\n",
            "The following package was automatically installed and is no longer required:\n",
            "  libnvidia-common-440\n",
            "Use 'apt autoremove' to remove it.\n",
            "The following NEW packages will be installed:\n",
            "  poppler-utils\n",
            "0 upgraded, 1 newly installed, 0 to remove and 35 not upgraded.\n",
            "Need to get 154 kB of archives.\n",
            "After this operation, 613 kB of additional disk space will be used.\n",
            "Get:1 http://archive.ubuntu.com/ubuntu bionic-updates/main amd64 poppler-utils amd64 0.62.0-2ubuntu2.10 [154 kB]\n",
            "Fetched 154 kB in 1s (178 kB/s)\n",
            "Selecting previously unselected package poppler-utils.\n",
            "(Reading database ... 144465 files and directories currently installed.)\n",
            "Preparing to unpack .../poppler-utils_0.62.0-2ubuntu2.10_amd64.deb ...\n",
            "Unpacking poppler-utils (0.62.0-2ubuntu2.10) ...\n",
            "Setting up poppler-utils (0.62.0-2ubuntu2.10) ...\n",
            "Processing triggers for man-db (2.8.3-2ubuntu0.1) ...\n"
          ],
          "name": "stdout"
        }
      ]
    },
    {
      "cell_type": "code",
      "metadata": {
        "id": "jOoKDafryW4r"
      },
      "source": [
        "from pdf2image import convert_from_path, convert_from_bytes\n",
        "from pdf2image.exceptions import (\n",
        "    PDFInfoNotInstalledError,\n",
        "    PDFPageCountError,\n",
        "    PDFSyntaxError\n",
        ")\n",
        "images = convert_from_path('SBI Insurance Policy.pdf')\n"
      ],
      "execution_count": null,
      "outputs": []
    },
    {
      "cell_type": "code",
      "metadata": {
        "id": "ZebiCo-uygR5",
        "colab": {
          "base_uri": "https://localhost:8080/",
          "height": 68
        },
        "outputId": "15122b25-d518-483d-a4b8-9539b8741e78"
      },
      "source": [
        "images"
      ],
      "execution_count": null,
      "outputs": [
        {
          "output_type": "execute_result",
          "data": {
            "text/plain": [
              "[<PIL.PpmImagePlugin.PpmImageFile image mode=RGB size=1660x2337 at 0x7FE7505399E8>,\n",
              " <PIL.PpmImagePlugin.PpmImageFile image mode=RGB size=1660x2337 at 0x7FE750539C88>,\n",
              " <PIL.PpmImagePlugin.PpmImageFile image mode=RGB size=1660x2337 at 0x7FE75077D518>]"
            ]
          },
          "metadata": {
            "tags": []
          },
          "execution_count": 237
        }
      ]
    },
    {
      "cell_type": "code",
      "metadata": {
        "id": "AWBIdeb14MZV",
        "colab": {
          "base_uri": "https://localhost:8080/",
          "height": 207
        },
        "outputId": "47091da7-7067-4ceb-ef04-b0a5c2851d3d"
      },
      "source": [
        "!pip install pytesseract"
      ],
      "execution_count": null,
      "outputs": [
        {
          "output_type": "stream",
          "text": [
            "Collecting pytesseract\n",
            "  Downloading https://files.pythonhosted.org/packages/1d/d8/521db389ff0aae32035bfda6ed39cb2c2e28521c47015f6431f07460c50a/pytesseract-0.3.4.tar.gz\n",
            "Requirement already satisfied: Pillow in /usr/local/lib/python3.6/dist-packages (from pytesseract) (7.0.0)\n",
            "Building wheels for collected packages: pytesseract\n",
            "  Building wheel for pytesseract (setup.py) ... \u001b[?25l\u001b[?25hdone\n",
            "  Created wheel for pytesseract: filename=pytesseract-0.3.4-py2.py3-none-any.whl size=13431 sha256=d7d5a4bba09ae19434734523cc08f4998ffa5f286b19b4a5086e325743c62ab7\n",
            "  Stored in directory: /root/.cache/pip/wheels/63/2a/a0/7596d2e0a73cf0aeffd6f6170862c4e73f3763b7827e48691a\n",
            "Successfully built pytesseract\n",
            "Installing collected packages: pytesseract\n",
            "Successfully installed pytesseract-0.3.4\n"
          ],
          "name": "stdout"
        }
      ]
    },
    {
      "cell_type": "code",
      "metadata": {
        "id": "T2fIIaKI6VhX",
        "colab": {
          "base_uri": "https://localhost:8080/",
          "height": 683
        },
        "outputId": "bb6df667-4bc1-4b95-e783-fb1558125d3c"
      },
      "source": [
        "!sudo apt install tesseract-ocr"
      ],
      "execution_count": null,
      "outputs": [
        {
          "output_type": "stream",
          "text": [
            "Reading package lists... Done\n",
            "Building dependency tree       \n",
            "Reading state information... Done\n",
            "The following package was automatically installed and is no longer required:\n",
            "  libnvidia-common-440\n",
            "Use 'sudo apt autoremove' to remove it.\n",
            "The following additional packages will be installed:\n",
            "  tesseract-ocr-eng tesseract-ocr-osd\n",
            "The following NEW packages will be installed:\n",
            "  tesseract-ocr tesseract-ocr-eng tesseract-ocr-osd\n",
            "0 upgraded, 3 newly installed, 0 to remove and 35 not upgraded.\n",
            "Need to get 4,795 kB of archives.\n",
            "After this operation, 15.8 MB of additional disk space will be used.\n",
            "Get:1 http://archive.ubuntu.com/ubuntu bionic/universe amd64 tesseract-ocr-eng all 4.00~git24-0e00fe6-1.2 [1,588 kB]\n",
            "Get:2 http://archive.ubuntu.com/ubuntu bionic/universe amd64 tesseract-ocr-osd all 4.00~git24-0e00fe6-1.2 [2,989 kB]\n",
            "Get:3 http://archive.ubuntu.com/ubuntu bionic/universe amd64 tesseract-ocr amd64 4.00~git2288-10f4998a-2 [218 kB]\n",
            "Fetched 4,795 kB in 2s (2,585 kB/s)\n",
            "debconf: unable to initialize frontend: Dialog\n",
            "debconf: (No usable dialog-like program is installed, so the dialog based frontend cannot be used. at /usr/share/perl5/Debconf/FrontEnd/Dialog.pm line 76, <> line 3.)\n",
            "debconf: falling back to frontend: Readline\n",
            "debconf: unable to initialize frontend: Readline\n",
            "debconf: (This frontend requires a controlling tty.)\n",
            "debconf: falling back to frontend: Teletype\n",
            "dpkg-preconfigure: unable to re-open stdin: \n",
            "Selecting previously unselected package tesseract-ocr-eng.\n",
            "(Reading database ... 144493 files and directories currently installed.)\n",
            "Preparing to unpack .../tesseract-ocr-eng_4.00~git24-0e00fe6-1.2_all.deb ...\n",
            "Unpacking tesseract-ocr-eng (4.00~git24-0e00fe6-1.2) ...\n",
            "Selecting previously unselected package tesseract-ocr-osd.\n",
            "Preparing to unpack .../tesseract-ocr-osd_4.00~git24-0e00fe6-1.2_all.deb ...\n",
            "Unpacking tesseract-ocr-osd (4.00~git24-0e00fe6-1.2) ...\n",
            "Selecting previously unselected package tesseract-ocr.\n",
            "Preparing to unpack .../tesseract-ocr_4.00~git2288-10f4998a-2_amd64.deb ...\n",
            "Unpacking tesseract-ocr (4.00~git2288-10f4998a-2) ...\n",
            "Setting up tesseract-ocr-osd (4.00~git24-0e00fe6-1.2) ...\n",
            "Setting up tesseract-ocr-eng (4.00~git24-0e00fe6-1.2) ...\n",
            "Setting up tesseract-ocr (4.00~git2288-10f4998a-2) ...\n",
            "Processing triggers for man-db (2.8.3-2ubuntu0.1) ...\n"
          ],
          "name": "stdout"
        }
      ]
    },
    {
      "cell_type": "code",
      "metadata": {
        "id": "klrGTdfK4Q9D"
      },
      "source": [
        "import pytesseract\n",
        "#pytesseract.pytesseract.tesseract_cmd = r'/usr/local/bin/pytesseract'"
      ],
      "execution_count": null,
      "outputs": []
    },
    {
      "cell_type": "code",
      "metadata": {
        "id": "TwIwP7D-zmu2"
      },
      "source": [
        "from matplotlib.pyplot import imshow\n",
        "import numpy as np\n",
        "from PIL import Image\n",
        "\n",
        "from IPython.display import Image \n",
        "#pil_img = Image(filename='data/empire.jpg')\n",
        "display(images[0])"
      ],
      "execution_count": null,
      "outputs": []
    },
    {
      "cell_type": "code",
      "metadata": {
        "id": "NeFzqnxh0DWr"
      },
      "source": [
        "text = pytesseract.image_to_string(images[0])"
      ],
      "execution_count": null,
      "outputs": []
    },
    {
      "cell_type": "code",
      "metadata": {
        "id": "hjolAIFU41Dq",
        "colab": {
          "base_uri": "https://localhost:8080/",
          "height": 137
        },
        "outputId": "a55b9b23-b373-404b-8ee9-f0f0f83ee342"
      },
      "source": [
        "text"
      ],
      "execution_count": null,
      "outputs": [
        {
          "output_type": "execute_result",
          "data": {
            "application/vnd.google.colaboratory.intrinsic": {
              "type": "string"
            },
            "text/plain": [
              "'Customer Care Number\\n1800-22-1111 (MTNL/BSNL user)\\n1800-102-1111 (for other users)\\ncustomer.care@sbigeneral.in\\n\\n \\n\\nPRIVATE CAR CERTLIOAT. OF JNSURANGE CUM POLICY SCHEDULE\\n\\n \\n\\n \\n\\n \\n\\n \\n\\n \\n\\n \\n\\n \\n\\n \\n\\n   \\n\\n \\n\\n \\n\\n \\n\\n \\n\\n \\n\\n \\n\\n \\n\\n \\n\\n \\n\\n \\n\\n \\n\\nImportant Note: 1) The Validity of this Certificate of Insurance cum Schedule is subject to realization of the premium cheque. 2) This Insurance Policy cover is valid subject to availabilty of Complete and Correct Registration\\nNumber within 15 days from the Date of Commencement of this Policy. 3) This insurance policy cover is valid subject to Warranties, Terms and Conditions of the policy.\\nHTM | jj 14012020_196468\\nAEA - Palo Cette No :\\nEM0675433491N SpeedPost sia :(0000000003780475-04\\nBNPL A/c. No.: MR/DA-West/1573/17-18. Policy Issue Date 213/01/2020\\nName © Mr. ASHOK KUMAR costomeD 70000000005589935\\nGeographical Area “India\\nAddress : , HOUSE NO-10 BLOCK-A, SECTOR 52, Noida Head Post Office, Noida, Gautam Buddha . a e\\nNagar - 201301, Uttar Pradesh, India Policy Servicing Branch Noida\\nIntermediary Name & Code = Sbi\\nContacto. - +91-9868717811, = ae re : Sbi Tehsil Compound 16606 , 0024581\\nintermediary Cor lo. or\\nEmail ld . VAIBHV16694@GMAIL.COM pe eco\\nPeriod of Insurance 09/02/2020 00:00 Hours To 08/02/2021 Midnight\\n= 4}\\nVehicle Details insured’s Declared Values i Amount (Rs}\\nVehicle Make Model & Variant _| Maruti Suzuki, Alto & bd - BS Ill 53460)\\nYear of Mfg. 2007 0\\n| Registration no | DL2C AG 4290 | 0\\n= 1 7 Saak:\\n| RTO Location Name 0\\nEngine No 149738 se Ps eae CNG/LPG Kit (Rs) 0\\nChassis No. 837792 Sees oe a | Total IDV {Rs} ee ee ee TOR tas 53460)\\nCubic Capacity 796 Type of Body HATCHBACK.\\nFuel Type Petrol\\nSeating Capacity Including Driver | 5\\n\\n \\n\\n \\n\\n \\n\\nLIMITATION AS TO USE : As per Motor Vehicle Rules, 1989, Th\\nPace Making, e) Speed testing f) Reliability Tris ))\\nDRIVERS CLAUSE : Any Person including the Insured Provided g th fied from holding or obtaining such a license; provided also that the\\n\\nward, b) Carriage of Goods (other than samples or personal luggage), c) Organized racing,d)\\n\\n \\n  \\n   \\n \\n    \\n \\n  \\n\\n \\n\\nLIMITS OF LIABILITY = a. Under Section Il-1(i) of the Px\\nproperty other than property belongin:\\nDEDUCTIBLE UNDER SECTION-I: (i)\\n‘SPECIAL CONDITION\\nNO CLAIM BONUS:The Insured is entitled for a No Ci\\nThe preceding year — 20%; Preceding two consecutive years — 25%; Preceding three consecutive ye\\nallowed provided the Policy is renewed within 90 days of the expiry date of the previous policy.\\n\\nct, 1988. b. Under Section Il (1)(i) of the Policy-Damage to\\nx-driver under Section-Ill CSI - Rs. 1500000 /-.\\n\\n  \\n\\nVoluntary dé\\nKk are excl\\n\\n   \\n \\n \\n \\n \\n \\n\\njade or pending during the preceding year(s), as follows:\\nconsecutive years — 45%; Preceding five consecutive years — 50%. The No Claim Bonus will only be\\n\\n \\n\\n    \\n\\n \\n\\n \\n\\n \\n\\n \\n\\n \\n\\n \\n\\n \\n\\n \\n\\n \\n\\n \\n\\n  \\n\\n \\n\\n \\n\\n \\n\\n \\n\\n \\n\\n \\n\\n \\n\\n \\n\\n \\n\\n \\n\\n \\n\\n \\n\\n \\n\\n \\n\\n \\n\\n \\n\\n \\n\\n \\n\\n \\n\\n \\n\\n \\n\\nPremium Computation Table\\nOwnDamage-Sectionh = 1 amount egy | Ganitty section 0 Amount (Rs)\\nOwn Damage Premium for Vehicle & Accessories (Amount will be including 898.65 Basic Liability 2072.00\\nall tariff covers & discounts & Other Loading / Discount) ~~ | Liability Premium for Trailers 0.00\\nBasic Road side Assistance 0.00 | CNG/LPG Bi-fuel Kit 0,00\\nDepreciation reimbursement 0.00 | Geographical Extension 0,00\\nReturn to Invoice 0.00 | Driving Tuition 0.00\\nEngine Guard 0.00 0.00\\nCover for Consumable 0.00 0.00\\nProtection of NCB 0.00 | Adéitional avers SS ee SS\\nCover for Key Replacement 0.00 | PA cover - Owner Driver 325.00\\nInconvenience Allowance 0.00 | PA cover — Unnamed Passengers (SI/Person) 500.00\\nLoss of Personal Belongings 0.00 | Legal Liability Cover 3 |\\nEnhanced PA Cover for Insured (Owner Driver) | 0.0 Liability to paid driver 0.00\\nEnhanced PA cover for Un-nammed Passengers 0,00 | Legal Liability to Employee 0.00\\nEnhanced PA cover for Paid Drivers 0.00 | Legal Liability Soldier / Sailor / Airman 0.00\\nHospital Cash Cover for Insured (Owner Driver) 0.00 | TPPD - Third Party Property Damage Discount 0.00]\\nHospital Cash Cover for unnamed passengers 0.00 | Use confined to Own Premises 0.00\\nHospital Cash Cover for Paid Drivers 0,00 } Vintage Car 0.00\\nAdditional Road Side Assistance 0.00 } Total Third Party Liability Premium (B) 2897.00\\nNCB Details e101 POucy PREMIUM (A+B) 3795.66\\nNo Claim Bonus 50% 516.26 | Taxes as Applicable\\nTotal Own Damage Premium (A) i 898.66 | Total Premium Collected\\n\\n \\n\\nPremium Collection details : Receipt No.: Receipt Date:\\nHire Purchase/ Lease /Hypothecated with :,\\n‘Subject to I.M.T Endorsement Nos. :IMT16,MT22\\n\\nSubject to SBIG Add-On Endorsement Nos.:SBIG-@ @ 0100\\n\\nNominee Details : Name :VAIBHAV SHARMA, Date of Birth16/09/1994, Relation Son\\n\\n \\n\\nFor claims, Please contact us at Toll Free number\\nMTNL/BSNL users ~ 1800-22-1111, Other users - 1800-102-1111For complete Coverage & Policy Wording, kindly visit our website - www.sbigeneral.in\\nWe hereby certify that the Policy to which this Certificate relates as well as this Certificate of Insurance are issued in accordance with the provisions of chapter X and Chapter XI of M.V. Act, 1988.\\n\\nPolicy Servicing Office : 2nd Floor, N-27,N - Block, Nearby Mosica Hotel, Sector -18, Noida, Sec-16 Noida, Uttar Pradesh - 201301, India\\n\\n \\n\\nFor and on behalf of SBI General Insurance Co. Ltd\\n\\n \\n\\nConsolidated Stamp Duty Rs. 0.50 paid towards Insurance Policy Stamps vide Order No. CSD/220/2019/5508/19 Dated: 2020-01-13 15:46:16.0 of General Stamp Office, Mumbai\\n\\nIMPORTANT NOTICE: The Insured is not indemnified if the vehicle is used or driven otherwise than in accordance with this schedule. Any payment made by the Company by reason of Z %\\nwider terms hate in the certificate in order to comply with the Motor Vehicle Act, 1988 is recoverable from the Insured. See the clause headed “AVOIDANCE OF CERTAIN TERMS AND Authorized Signatory\\nRIGHT OF RECOVERY”. For legal interpretation English version will be good.\\n\\nDisclaimer: Please examine this Policy including attached Schedules / Annexure if any. In the event of any discrepancy please contact the office of the Company immediately, it being noted that\\n\\nthis Policy shall be otherwise considered as being entirely in order. Please find claims settlement & grievance redressal procedure available on www.sbigeneral.in\\n\\nSBI General Insurance Company Limited 196468\\n\\nRegistered and Corporate office : “Natraj” 301, Junction of Western Express Highway & Andheri Kurla — Road, Andheri (East), Mumbai— 400 069,IRDA of India Reg.No.144'"
            ]
          },
          "metadata": {
            "tags": []
          },
          "execution_count": 244
        }
      ]
    },
    {
      "cell_type": "code",
      "metadata": {
        "id": "eZuWGoYI6iEA",
        "colab": {
          "base_uri": "https://localhost:8080/",
          "height": 1000
        },
        "outputId": "85f82d0a-2db1-4140-9ee3-b6435831c10b"
      },
      "source": [
        "text.split('\\n')"
      ],
      "execution_count": null,
      "outputs": [
        {
          "output_type": "execute_result",
          "data": {
            "text/plain": [
              "['Customer Care Number',\n",
              " '1800-22-1111 (MTNL/BSNL user)',\n",
              " '1800-102-1111 (for other users)',\n",
              " 'customer.care@sbigeneral.in',\n",
              " '',\n",
              " ' ',\n",
              " '',\n",
              " 'PRIVATE CAR CERTLIOAT. OF JNSURANGE CUM POLICY SCHEDULE',\n",
              " '',\n",
              " ' ',\n",
              " '',\n",
              " ' ',\n",
              " '',\n",
              " ' ',\n",
              " '',\n",
              " ' ',\n",
              " '',\n",
              " ' ',\n",
              " '',\n",
              " ' ',\n",
              " '',\n",
              " ' ',\n",
              " '',\n",
              " ' ',\n",
              " '',\n",
              " '   ',\n",
              " '',\n",
              " ' ',\n",
              " '',\n",
              " ' ',\n",
              " '',\n",
              " ' ',\n",
              " '',\n",
              " ' ',\n",
              " '',\n",
              " ' ',\n",
              " '',\n",
              " ' ',\n",
              " '',\n",
              " ' ',\n",
              " '',\n",
              " ' ',\n",
              " '',\n",
              " ' ',\n",
              " '',\n",
              " ' ',\n",
              " '',\n",
              " ' ',\n",
              " '',\n",
              " 'Important Note: 1) The Validity of this Certificate of Insurance cum Schedule is subject to realization of the premium cheque. 2) This Insurance Policy cover is valid subject to availabilty of Complete and Correct Registration',\n",
              " 'Number within 15 days from the Date of Commencement of this Policy. 3) This insurance policy cover is valid subject to Warranties, Terms and Conditions of the policy.',\n",
              " 'HTM | jj 14012020_196468',\n",
              " 'AEA - Palo Cette No :',\n",
              " 'EM0675433491N SpeedPost sia :(0000000003780475-04',\n",
              " 'BNPL A/c. No.: MR/DA-West/1573/17-18. Policy Issue Date 213/01/2020',\n",
              " 'Name © Mr. ASHOK KUMAR costomeD 70000000005589935',\n",
              " 'Geographical Area “India',\n",
              " 'Address : , HOUSE NO-10 BLOCK-A, SECTOR 52, Noida Head Post Office, Noida, Gautam Buddha . a e',\n",
              " 'Nagar - 201301, Uttar Pradesh, India Policy Servicing Branch Noida',\n",
              " 'Intermediary Name & Code = Sbi',\n",
              " 'Contacto. - +91-9868717811, = ae re : Sbi Tehsil Compound 16606 , 0024581',\n",
              " 'intermediary Cor lo. or',\n",
              " 'Email ld . VAIBHV16694@GMAIL.COM pe eco',\n",
              " 'Period of Insurance 09/02/2020 00:00 Hours To 08/02/2021 Midnight',\n",
              " '= 4}',\n",
              " 'Vehicle Details insured’s Declared Values i Amount (Rs}',\n",
              " 'Vehicle Make Model & Variant _| Maruti Suzuki, Alto & bd - BS Ill 53460)',\n",
              " 'Year of Mfg. 2007 0',\n",
              " '| Registration no | DL2C AG 4290 | 0',\n",
              " '= 1 7 Saak:',\n",
              " '| RTO Location Name 0',\n",
              " 'Engine No 149738 se Ps eae CNG/LPG Kit (Rs) 0',\n",
              " 'Chassis No. 837792 Sees oe a | Total IDV {Rs} ee ee ee TOR tas 53460)',\n",
              " 'Cubic Capacity 796 Type of Body HATCHBACK.',\n",
              " 'Fuel Type Petrol',\n",
              " 'Seating Capacity Including Driver | 5',\n",
              " '',\n",
              " ' ',\n",
              " '',\n",
              " ' ',\n",
              " '',\n",
              " ' ',\n",
              " '',\n",
              " 'LIMITATION AS TO USE : As per Motor Vehicle Rules, 1989, Th',\n",
              " 'Pace Making, e) Speed testing f) Reliability Tris ))',\n",
              " 'DRIVERS CLAUSE : Any Person including the Insured Provided g th fied from holding or obtaining such a license; provided also that the',\n",
              " '',\n",
              " 'ward, b) Carriage of Goods (other than samples or personal luggage), c) Organized racing,d)',\n",
              " '',\n",
              " ' ',\n",
              " '  ',\n",
              " '   ',\n",
              " ' ',\n",
              " '    ',\n",
              " ' ',\n",
              " '  ',\n",
              " '',\n",
              " ' ',\n",
              " '',\n",
              " 'LIMITS OF LIABILITY = a. Under Section Il-1(i) of the Px',\n",
              " 'property other than property belongin:',\n",
              " 'DEDUCTIBLE UNDER SECTION-I: (i)',\n",
              " '‘SPECIAL CONDITION',\n",
              " 'NO CLAIM BONUS:The Insured is entitled for a No Ci',\n",
              " 'The preceding year — 20%; Preceding two consecutive years — 25%; Preceding three consecutive ye',\n",
              " 'allowed provided the Policy is renewed within 90 days of the expiry date of the previous policy.',\n",
              " '',\n",
              " 'ct, 1988. b. Under Section Il (1)(i) of the Policy-Damage to',\n",
              " 'x-driver under Section-Ill CSI - Rs. 1500000 /-.',\n",
              " '',\n",
              " '  ',\n",
              " '',\n",
              " 'Voluntary dé',\n",
              " 'Kk are excl',\n",
              " '',\n",
              " '   ',\n",
              " ' ',\n",
              " ' ',\n",
              " ' ',\n",
              " ' ',\n",
              " ' ',\n",
              " '',\n",
              " 'jade or pending during the preceding year(s), as follows:',\n",
              " 'consecutive years — 45%; Preceding five consecutive years — 50%. The No Claim Bonus will only be',\n",
              " '',\n",
              " ' ',\n",
              " '',\n",
              " '    ',\n",
              " '',\n",
              " ' ',\n",
              " '',\n",
              " ' ',\n",
              " '',\n",
              " ' ',\n",
              " '',\n",
              " ' ',\n",
              " '',\n",
              " ' ',\n",
              " '',\n",
              " ' ',\n",
              " '',\n",
              " ' ',\n",
              " '',\n",
              " ' ',\n",
              " '',\n",
              " ' ',\n",
              " '',\n",
              " ' ',\n",
              " '',\n",
              " '  ',\n",
              " '',\n",
              " ' ',\n",
              " '',\n",
              " ' ',\n",
              " '',\n",
              " ' ',\n",
              " '',\n",
              " ' ',\n",
              " '',\n",
              " ' ',\n",
              " '',\n",
              " ' ',\n",
              " '',\n",
              " ' ',\n",
              " '',\n",
              " ' ',\n",
              " '',\n",
              " ' ',\n",
              " '',\n",
              " ' ',\n",
              " '',\n",
              " ' ',\n",
              " '',\n",
              " ' ',\n",
              " '',\n",
              " ' ',\n",
              " '',\n",
              " ' ',\n",
              " '',\n",
              " ' ',\n",
              " '',\n",
              " ' ',\n",
              " '',\n",
              " ' ',\n",
              " '',\n",
              " ' ',\n",
              " '',\n",
              " ' ',\n",
              " '',\n",
              " ' ',\n",
              " '',\n",
              " ' ',\n",
              " '',\n",
              " 'Premium Computation Table',\n",
              " 'OwnDamage-Sectionh = 1 amount egy | Ganitty section 0 Amount (Rs)',\n",
              " 'Own Damage Premium for Vehicle & Accessories (Amount will be including 898.65 Basic Liability 2072.00',\n",
              " 'all tariff covers & discounts & Other Loading / Discount) ~~ | Liability Premium for Trailers 0.00',\n",
              " 'Basic Road side Assistance 0.00 | CNG/LPG Bi-fuel Kit 0,00',\n",
              " 'Depreciation reimbursement 0.00 | Geographical Extension 0,00',\n",
              " 'Return to Invoice 0.00 | Driving Tuition 0.00',\n",
              " 'Engine Guard 0.00 0.00',\n",
              " 'Cover for Consumable 0.00 0.00',\n",
              " 'Protection of NCB 0.00 | Adéitional avers SS ee SS',\n",
              " 'Cover for Key Replacement 0.00 | PA cover - Owner Driver 325.00',\n",
              " 'Inconvenience Allowance 0.00 | PA cover — Unnamed Passengers (SI/Person) 500.00',\n",
              " 'Loss of Personal Belongings 0.00 | Legal Liability Cover 3 |',\n",
              " 'Enhanced PA Cover for Insured (Owner Driver) | 0.0 Liability to paid driver 0.00',\n",
              " 'Enhanced PA cover for Un-nammed Passengers 0,00 | Legal Liability to Employee 0.00',\n",
              " 'Enhanced PA cover for Paid Drivers 0.00 | Legal Liability Soldier / Sailor / Airman 0.00',\n",
              " 'Hospital Cash Cover for Insured (Owner Driver) 0.00 | TPPD - Third Party Property Damage Discount 0.00]',\n",
              " 'Hospital Cash Cover for unnamed passengers 0.00 | Use confined to Own Premises 0.00',\n",
              " 'Hospital Cash Cover for Paid Drivers 0,00 } Vintage Car 0.00',\n",
              " 'Additional Road Side Assistance 0.00 } Total Third Party Liability Premium (B) 2897.00',\n",
              " 'NCB Details e101 POucy PREMIUM (A+B) 3795.66',\n",
              " 'No Claim Bonus 50% 516.26 | Taxes as Applicable',\n",
              " 'Total Own Damage Premium (A) i 898.66 | Total Premium Collected',\n",
              " '',\n",
              " ' ',\n",
              " '',\n",
              " 'Premium Collection details : Receipt No.: Receipt Date:',\n",
              " 'Hire Purchase/ Lease /Hypothecated with :,',\n",
              " '‘Subject to I.M.T Endorsement Nos. :IMT16,MT22',\n",
              " '',\n",
              " 'Subject to SBIG Add-On Endorsement Nos.:SBIG-@ @ 0100',\n",
              " '',\n",
              " 'Nominee Details : Name :VAIBHAV SHARMA, Date of Birth16/09/1994, Relation Son',\n",
              " '',\n",
              " ' ',\n",
              " '',\n",
              " 'For claims, Please contact us at Toll Free number',\n",
              " 'MTNL/BSNL users ~ 1800-22-1111, Other users - 1800-102-1111For complete Coverage & Policy Wording, kindly visit our website - www.sbigeneral.in',\n",
              " 'We hereby certify that the Policy to which this Certificate relates as well as this Certificate of Insurance are issued in accordance with the provisions of chapter X and Chapter XI of M.V. Act, 1988.',\n",
              " '',\n",
              " 'Policy Servicing Office : 2nd Floor, N-27,N - Block, Nearby Mosica Hotel, Sector -18, Noida, Sec-16 Noida, Uttar Pradesh - 201301, India',\n",
              " '',\n",
              " ' ',\n",
              " '',\n",
              " 'For and on behalf of SBI General Insurance Co. Ltd',\n",
              " '',\n",
              " ' ',\n",
              " '',\n",
              " 'Consolidated Stamp Duty Rs. 0.50 paid towards Insurance Policy Stamps vide Order No. CSD/220/2019/5508/19 Dated: 2020-01-13 15:46:16.0 of General Stamp Office, Mumbai',\n",
              " '',\n",
              " 'IMPORTANT NOTICE: The Insured is not indemnified if the vehicle is used or driven otherwise than in accordance with this schedule. Any payment made by the Company by reason of Z %',\n",
              " 'wider terms hate in the certificate in order to comply with the Motor Vehicle Act, 1988 is recoverable from the Insured. See the clause headed “AVOIDANCE OF CERTAIN TERMS AND Authorized Signatory',\n",
              " 'RIGHT OF RECOVERY”. For legal interpretation English version will be good.',\n",
              " '',\n",
              " 'Disclaimer: Please examine this Policy including attached Schedules / Annexure if any. In the event of any discrepancy please contact the office of the Company immediately, it being noted that',\n",
              " '',\n",
              " 'this Policy shall be otherwise considered as being entirely in order. Please find claims settlement & grievance redressal procedure available on www.sbigeneral.in',\n",
              " '',\n",
              " 'SBI General Insurance Company Limited 196468',\n",
              " '',\n",
              " 'Registered and Corporate office : “Natraj” 301, Junction of Western Express Highway & Andheri Kurla — Road, Andheri (East), Mumbai— 400 069,IRDA of India Reg.No.144']"
            ]
          },
          "metadata": {
            "tags": []
          },
          "execution_count": 245
        }
      ]
    },
    {
      "cell_type": "code",
      "metadata": {
        "id": "Tr0uw9dd62jF"
      },
      "source": [
        ""
      ],
      "execution_count": null,
      "outputs": []
    }
  ]
}